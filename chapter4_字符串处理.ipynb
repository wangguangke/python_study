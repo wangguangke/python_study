{
 "cells": [
  {
   "cell_type": "markdown",
   "metadata": {},
   "source": [
    "# 4. 字符串处理"
   ]
  },
  {
   "cell_type": "markdown",
   "metadata": {},
   "source": [
    "## 4.1 字符串长度与比较\n",
    "    Python中使用len()函数来获得字符串的长度"
   ]
  },
  {
   "cell_type": "code",
   "execution_count": 1,
   "metadata": {},
   "outputs": [
    {
     "data": {
      "text/plain": [
       "11"
      ]
     },
     "execution_count": 1,
     "metadata": {},
     "output_type": "execute_result"
    }
   ],
   "source": [
    "var='Hello world'\n",
    "len(var)"
   ]
  },
  {
   "cell_type": "markdown",
   "metadata": {},
   "source": [
    "    字符串的比较：判断相等用==，判断大小用>、<。\n",
    "    \n",
    "    比较规则是：从左边开始，依次比较每个字符对应的ASCII码值。"
   ]
  },
  {
   "cell_type": "code",
   "execution_count": 2,
   "metadata": {},
   "outputs": [
    {
     "name": "stdout",
     "output_type": "stream",
     "text": [
      "True\n",
      "False\n",
      "True\n"
     ]
    }
   ],
   "source": [
    "print('hello'=='hello')\n",
    "print('Hello'>'hello')\n",
    "print('hell'<'hello')\n"
   ]
  },
  {
   "cell_type": "markdown",
   "metadata": {},
   "source": [
    "## 4.2 字符串索引\n",
    "\n",
    "    Python中的字符串是一系列字符的有序集合。在这个有序集合中，每个元素都隐藏着一个数字下标，代表字符在有序集合中的位置，我们也把这个数字下标成为索引。因此，可以通过该索引来获得某个具体位置的元素。\n",
    "    \n",
    "    字符串的索引方式有两种：正向索引和反向索引。\n",
    "    \n",
    "    正向索引是从字符串的左到右的顺序依次递增检索字符串中的元素；反向索引是从最右向左依次递减检索字符串中的元素。"
   ]
  },
  {
   "cell_type": "raw",
   "metadata": {},
   "source": [
    "语法格式为：s[index]\n",
    "索引需要注意几点：\n",
    "1. 索引必须是整数\n",
    "2. 索引是从0开始，到len(s)-1结束\n",
    "3. 可以使用负索引，末尾索引用-1表示，倒数第二个用-1表示，以此类推，最左边的元素索引为-len(s)\n",
    "\n",
    "        \tH\te\tl\tl\to\t,\tw\to\tr\tl\td\n",
    "正向索引 \t 0\t 1\t 2\t 3\t 4\t 5\t 6\t 7\t 8\t 9\t10\n",
    "反向索引\t-11\t-10\t-9\t-8\t-7\t-6\t-5\t-4\t-3\t-2\t-1\n",
    "\n"
   ]
  },
  {
   "cell_type": "code",
   "execution_count": 5,
   "metadata": {},
   "outputs": [
    {
     "data": {
      "text/plain": [
       "'H'"
      ]
     },
     "execution_count": 5,
     "metadata": {},
     "output_type": "execute_result"
    }
   ],
   "source": [
    "s = 'Hello,world'\n",
    "#第一个字符：\n",
    "s[-11]\n",
    "#第2个字符\n",
    "# s[1]\n",
    "# #倒数第一个字符\n",
    "# s[-1]\n",
    "# #倒数第二个字符\n",
    "# s[-2]"
   ]
  },
  {
   "cell_type": "markdown",
   "metadata": {},
   "source": [
    "## 4.3 字符串遍历\n",
    "\n",
    "    从一个字符串的开头读到末尾，每次只读一个字符。\n",
    "    \n",
    "    字符串的变量是利用for循环，配合内置函数使用。"
   ]
  },
  {
   "cell_type": "markdown",
   "metadata": {},
   "source": [
    "1. 简单的for循环遍历  for...in..."
   ]
  },
  {
   "cell_type": "code",
   "execution_count": 6,
   "metadata": {},
   "outputs": [
    {
     "name": "stdout",
     "output_type": "stream",
     "text": [
      "H\n",
      "o\n",
      "w\n",
      " \n",
      "a\n",
      "r\n",
      "e\n",
      " \n",
      "y\n",
      "o\n",
      "u\n"
     ]
    }
   ],
   "source": [
    "\n",
    "\n",
    "var = \"How are you\" \n",
    "for every_char in var:\n",
    "    print(every_char)"
   ]
  },
  {
   "cell_type": "markdown",
   "metadata": {},
   "source": [
    "2. for 循环结合range函数。利用range()函数生成一个数字序列迭代器，然后通过for循环遍历迭代器，从range()函数生成的对象里逐个拿到字符串中的字符索引\n",
    "\n"
   ]
  },
  {
   "cell_type": "code",
   "execution_count": 8,
   "metadata": {},
   "outputs": [
    {
     "name": "stdout",
     "output_type": "stream",
     "text": [
      "0\tH\n",
      "1\to\n",
      "2\tw\n",
      "3\t \n",
      "4\ta\n",
      "5\tr\n",
      "6\te\n",
      "7\t \n",
      "8\ty\n",
      "9\to\n",
      "10\tu\n"
     ]
    }
   ],
   "source": [
    "\n",
    "var = \"How are you\"\n",
    "for index in range(len(var)):\n",
    "    print('{}\\t{}'.format(index,var[index]))\n"
   ]
  },
  {
   "cell_type": "markdown",
   "metadata": {},
   "source": [
    "3. 使用内置函数enumerate\n",
    "    \n",
    "    python中enumerate是一个内置的函数，用于在一个可迭代或可遍历的对象(如列表、字符串、数组、字典)中，将对象组成一个一个序列和索引，可以同时获得索引和索引值.\n",
    "    \n",
    "    将enumerate作用在字符串上将会返回两个值：索引号和对应的字符\n"
   ]
  },
  {
   "cell_type": "code",
   "execution_count": 9,
   "metadata": {},
   "outputs": [
    {
     "name": "stdout",
     "output_type": "stream",
     "text": [
      "0\tH\n",
      "1\to\n",
      "2\tw\n",
      "3\t \n",
      "4\ta\n",
      "5\tr\n",
      "6\te\n",
      "7\t \n",
      "8\ty\n",
      "9\to\n",
      "10\tu\n"
     ]
    }
   ],
   "source": [
    "var = \"How are you\"\n",
    "for index, every_char in enumerate(var):\n",
    "    print(\"{}\\t{}\".format(index,every_char))\n"
   ]
  },
  {
   "cell_type": "markdown",
   "metadata": {},
   "source": [
    "4. 内置函数iter。\n",
    "\n",
    "   iter()函数用来将容器类或者序列类型转化为迭代器对象，iter函数的标准用法是iter(object)，object是迭代的集合对象。由于字符串本身是一个序列，因此，可以利用iter()函数将字符串转换为迭代器对象，在for循环中就可以使用迭代器的next()方法逐一从迭代器中取出元素。"
   ]
  },
  {
   "cell_type": "code",
   "execution_count": 8,
   "metadata": {},
   "outputs": [
    {
     "name": "stdout",
     "output_type": "stream",
     "text": [
      "H\n",
      "o\n",
      "w\n",
      " \n",
      "a\n",
      "r\n",
      "e\n",
      " \n",
      "y\n",
      "o\n",
      "u\n"
     ]
    }
   ],
   "source": [
    "var = \"How are you\"\n",
    "for every_char in iter(var):\n",
    "    print(every_char)\n"
   ]
  },
  {
   "cell_type": "markdown",
   "metadata": {},
   "source": [
    "## 4.4 字符串切片\n",
    "\n",
    "    利用索引可以对字符串中的单个元素进行访问，但若需要对一个范围内的元素进行访问，即取得一个字符串的子串，单纯使用索引号逐个取元素的方法比较麻烦，这时我们就需要有一个可以快速访问指定范围元素的方法。\n",
    "    \n",
    "    Python提供了切片的方法来实现这一操作。切片指的是截取某一范围内的元素，字符串切片指的就是截取指定的子字符串。所谓切片，就是通过冒号相隔的两个索引下标指定索引范围。使用切片的时候我们有两种方式：没有步长的简单切片和有步长的切片。\n"
   ]
  },
  {
   "cell_type": "markdown",
   "metadata": {},
   "source": [
    "1.没有步长的简单切片：用于截取连续区间内的子字符串，语法结构如下所示"
   ]
  },
  {
   "cell_type": "raw",
   "metadata": {},
   "source": [
    "s[start:end]"
   ]
  },
  {
   "cell_type": "code",
   "execution_count": 11,
   "metadata": {},
   "outputs": [
    {
     "data": {
      "text/plain": [
       "'How'"
      ]
     },
     "execution_count": 11,
     "metadata": {},
     "output_type": "execute_result"
    }
   ],
   "source": [
    "var='How are you'\n",
    "var[0:3]"
   ]
  },
  {
   "cell_type": "code",
   "execution_count": 12,
   "metadata": {},
   "outputs": [
    {
     "data": {
      "text/plain": [
       "'F,G,H,I,J'"
      ]
     },
     "execution_count": 12,
     "metadata": {},
     "output_type": "execute_result"
    }
   ],
   "source": [
    "'''\n",
    "比如某大巴上的学生一共20人，student = 'A,B,C,D,E,F,G,H,I,J,K,L,M,N,O,P,Q,R,S,T'.\n",
    "\n",
    "被分成了4组，每组5人,利用切片取第二组和第4组的同学\n",
    "''' \n",
    "student = 'A,B,C,D,E,F,G,H,I,J,K,L,M,N,O,P,Q,R,S,T'\n",
    "student[10:19]\n"
   ]
  },
  {
   "cell_type": "code",
   "execution_count": 14,
   "metadata": {},
   "outputs": [
    {
     "data": {
      "text/plain": [
       "'P,Q,R,S,T'"
      ]
     },
     "execution_count": 14,
     "metadata": {},
     "output_type": "execute_result"
    }
   ],
   "source": [
    "#第4组 \n",
    "student[30:]"
   ]
  },
  {
   "cell_type": "code",
   "execution_count": 15,
   "metadata": {},
   "outputs": [
    {
     "data": {
      "text/plain": [
       "'P,Q,R,S,T'"
      ]
     },
     "execution_count": 15,
     "metadata": {},
     "output_type": "execute_result"
    }
   ],
   "source": [
    "# 最后一个元素没有取出来？？\n",
    "# 切片下标为左闭右开区间，可以省略结束索引号：\n",
    "student[30:]\n"
   ]
  },
  {
   "cell_type": "code",
   "execution_count": 19,
   "metadata": {},
   "outputs": [
    {
     "name": "stdout",
     "output_type": "stream",
     "text": [
      "P,Q,R,S,T\n"
     ]
    }
   ],
   "source": [
    "# 利用负数索引\n",
    "student = 'A,B,C,D,E,F,G,H,I,J,K,L,M,N,O,P,Q,R,S,T'\n",
    "print(student[-9:])\n"
   ]
  },
  {
   "cell_type": "code",
   "execution_count": 17,
   "metadata": {},
   "outputs": [
    {
     "name": "stdout",
     "output_type": "stream",
     "text": [
      "A,B,C,D,E,F,G,H,I,J,K,L,M,N,O,P,Q,R,S,T\n"
     ]
    }
   ],
   "source": [
    "# 结束索引和起始索引均为空\n",
    "student = 'A,B,C,D,E,F,G,H,I,J,K,L,M,N,O,P,Q,R,S,T'\n",
    "print(student[:])\n"
   ]
  },
  {
   "cell_type": "markdown",
   "metadata": {},
   "source": [
    "2. 有步长的切片：用于按照指定的间隔取出字符串中的字符。\n",
    "s[start:end:step]"
   ]
  },
  {
   "cell_type": "code",
   "execution_count": 23,
   "metadata": {},
   "outputs": [
    {
     "data": {
      "text/plain": [
       "'bdfhj'"
      ]
     },
     "execution_count": 23,
     "metadata": {},
     "output_type": "execute_result"
    }
   ],
   "source": [
    "a= 'abcdefghijklmnop'\n",
    "a[1:10:2]\n"
   ]
  },
  {
   "cell_type": "code",
   "execution_count": 19,
   "metadata": {},
   "outputs": [
    {
     "data": {
      "text/plain": [
       "'ponmlkjihgfedcba'"
      ]
     },
     "execution_count": 19,
     "metadata": {},
     "output_type": "execute_result"
    }
   ],
   "source": [
    "# 当step为负数时，表示间隔逆向取出字符串，表示从右向左取字符串\n",
    "a= 'abcdefghijklmnop'\n",
    "a[::-1]\n"
   ]
  },
  {
   "cell_type": "code",
   "execution_count": 20,
   "metadata": {},
   "outputs": [
    {
     "data": {
      "text/plain": [
       "'pnljhfdb'"
      ]
     },
     "execution_count": 20,
     "metadata": {},
     "output_type": "execute_result"
    }
   ],
   "source": [
    "# 步长的绝对值大于1表示间隔的取数\n",
    "a[::-2]"
   ]
  },
  {
   "cell_type": "code",
   "execution_count": 24,
   "metadata": {},
   "outputs": [
    {
     "name": "stdout",
     "output_type": "stream",
     "text": [
      "ponmlkj\n",
      "khe\n"
     ]
    }
   ],
   "source": [
    "# 在使用负数步长时，起始位置和结束位置可以为空，如果不为空的话，起始位置start必须大于结束位置end\n",
    "a= 'abcdefghijklmnop'\n",
    "print(a[-1:-8:-1])\n",
    "print(a[10:1:-3])"
   ]
  },
  {
   "cell_type": "markdown",
   "metadata": {},
   "source": [
    " ## 4.5 有用的字符串方法\n",
    "    "
   ]
  },
  {
   "cell_type": "markdown",
   "metadata": {},
   "source": [
    " 1. index() 确定字符串str中某个字符串的位置。\n",
    " \n",
    "     语法：str.index(sub_str,beg,end)\n",
    "     \n",
    "     表示从字符串str中查找子字符串sub_str，查找位置从beg开始，到end结束。默认情况下beg是从索引号为0的位置开始检索，end等于字符串str 的长度。\n"
   ]
  },
  {
   "cell_type": "code",
   "execution_count": 29,
   "metadata": {},
   "outputs": [
    {
     "name": "stdout",
     "output_type": "stream",
     "text": [
      "2\n",
      "20\n",
      "14\n"
     ]
    }
   ],
   "source": [
    "a = 'I like swimming and going fishing,going'\n",
    "b = a.index('like',0,10)\n",
    "c = a.index('going')\n",
    "d  = a.index('g')\n",
    "\n",
    "print(b)\n",
    "print(c)\n",
    "print(d)"
   ]
  },
  {
   "cell_type": "code",
   "execution_count": 30,
   "metadata": {},
   "outputs": [
    {
     "ename": "ValueError",
     "evalue": "substring not found",
     "output_type": "error",
     "traceback": [
      "\u001b[0;31m---------------------------------------------------------------------------\u001b[0m",
      "\u001b[0;31mValueError\u001b[0m                                Traceback (most recent call last)",
      "\u001b[0;32m<ipython-input-30-06e03402bd36>\u001b[0m in \u001b[0;36m<module>\u001b[0;34m\u001b[0m\n\u001b[1;32m      2\u001b[0m \u001b[0;34m\u001b[0m\u001b[0m\n\u001b[1;32m      3\u001b[0m \u001b[0ma\u001b[0m \u001b[0;34m=\u001b[0m \u001b[0;34m'I like swimming and going fishing'\u001b[0m\u001b[0;34m\u001b[0m\u001b[0;34m\u001b[0m\u001b[0m\n\u001b[0;32m----> 4\u001b[0;31m \u001b[0mb\u001b[0m \u001b[0;34m=\u001b[0m \u001b[0ma\u001b[0m\u001b[0;34m.\u001b[0m\u001b[0mindex\u001b[0m\u001b[0;34m(\u001b[0m\u001b[0;34m'time'\u001b[0m\u001b[0;34m)\u001b[0m\u001b[0;34m\u001b[0m\u001b[0;34m\u001b[0m\u001b[0m\n\u001b[0m\u001b[1;32m      5\u001b[0m \u001b[0mprint\u001b[0m\u001b[0;34m(\u001b[0m\u001b[0mb\u001b[0m\u001b[0;34m)\u001b[0m\u001b[0;34m\u001b[0m\u001b[0;34m\u001b[0m\u001b[0m\n",
      "\u001b[0;31mValueError\u001b[0m: substring not found"
     ]
    }
   ],
   "source": [
    "# 搜索不存在的字符或字符串\n",
    "\n",
    "a = 'I like swimming and going fishing'\n",
    "b = a.index('time')\n",
    "print(b)\n"
   ]
  },
  {
   "cell_type": "markdown",
   "metadata": {},
   "source": [
    "2. replace()方法\n",
    "\n",
    "    字符串替换，即将一个字符串替换为一个新的字符串。replace()方法的语法格式为：str.replace(old, new[, max])\n",
    "    \n",
    "    str 代表指定检索的字符串; old 代表将被替换的子字符串: new代表新字符串，用于替换old子字符串: max 代表可选字符串，如果指定了max 参数，则替换次数不超过max次。\n",
    "    \n",
    "    返回结果为将字符串中的old (旧字符串)替换成new (新字符串)后生成的新字符串。"
   ]
  },
  {
   "cell_type": "code",
   "execution_count": 32,
   "metadata": {},
   "outputs": [
    {
     "name": "stdout",
     "output_type": "stream",
     "text": [
      "原字符串:  do it now,do right now\n",
      "新字符串1: Just do it now,Just do right now\n",
      "新字符串2:  dJust it now,do right now\n",
      "新字符串3:  dJust it nJustw,do right now\n",
      "新字符串4:  dJust it nJustw,dJust right now\n"
     ]
    }
   ],
   "source": [
    "field='do it now,do right now'\n",
    "print('原字符串: ',field)\n",
    "print('新字符串1:',field.replace('do','Just do'))\n",
    "print('新字符串2: ',field.replace('o','Just',1))\n",
    "print('新字符串3: ',field.replace('o','Just',2))\n",
    "print('新字符串4: ',field.replace('o','Just',3))\n"
   ]
  },
  {
   "cell_type": "markdown",
   "metadata": {},
   "source": [
    "3.join()方法\n",
    "\n",
    "    join()方法用于将序列中的元素以指定字符串连接成一个新字符串。\n",
    "    \n",
    "    join()方法的语法格式如下:str.join(sequence)\n",
    "    \n",
    "    str代表指定的字符串，sequence 代表要连接的元素序列。返回结果为指定字符串连接序列中元素后生成的新字符串。"
   ]
  },
  {
   "cell_type": "code",
   "execution_count": 34,
   "metadata": {},
   "outputs": [
    {
     "name": "stdout",
     "output_type": "stream",
     "text": [
      "new_var1: s#t#a#y# #h#u#n#g#r#y\n",
      "new_var2: c:/python/daima\n"
     ]
    }
   ],
   "source": [
    "var1 = 'stay hungry'\n",
    "new_var1  = '#'.join(var1)\n",
    "print('new_var1:',new_var1)\n",
    "var2 = ['c:','python','daima']\n",
    "new_var2 = '/'.join(var2)\n",
    "print('new_var2:',new_var2)\n"
   ]
  },
  {
   "cell_type": "code",
   "execution_count": 6,
   "metadata": {},
   "outputs": [
    {
     "data": {
      "text/plain": [
       "'C*F*G'"
      ]
     },
     "execution_count": 6,
     "metadata": {},
     "output_type": "execute_result"
    }
   ],
   "source": [
    "# join()方法要连接的序列可以是字符串，也可以是元组和字典\n",
    "\n",
    "A=['C','F','G']\n",
    "'*'.join(A)\n",
    "\n",
    "# B={'C':2,'F':8,'G':4}\n",
    "# '+'.join(B)\n"
   ]
  },
  {
   "cell_type": "code",
   "execution_count": 7,
   "metadata": {},
   "outputs": [
    {
     "ename": "TypeError",
     "evalue": "sequence item 0: expected str instance, int found",
     "output_type": "error",
     "traceback": [
      "\u001b[0;31m---------------------------------------------------------------------------\u001b[0m",
      "\u001b[0;31mTypeError\u001b[0m                                 Traceback (most recent call last)",
      "\u001b[0;32m<ipython-input-7-a00d3256b659>\u001b[0m in \u001b[0;36m<module>\u001b[0;34m\u001b[0m\n\u001b[1;32m      2\u001b[0m \u001b[0mvar\u001b[0m \u001b[0;34m=\u001b[0m \u001b[0;34m[\u001b[0m\u001b[0;36m1\u001b[0m\u001b[0;34m,\u001b[0m\u001b[0;36m2\u001b[0m\u001b[0;34m,\u001b[0m\u001b[0;36m3\u001b[0m\u001b[0;34m,\u001b[0m\u001b[0;36m4\u001b[0m\u001b[0;34m]\u001b[0m\u001b[0;34m\u001b[0m\u001b[0;34m\u001b[0m\u001b[0m\n\u001b[1;32m      3\u001b[0m \u001b[0mmark\u001b[0m \u001b[0;34m=\u001b[0m \u001b[0;34m\"+\"\u001b[0m\u001b[0;34m\u001b[0m\u001b[0;34m\u001b[0m\u001b[0m\n\u001b[0;32m----> 4\u001b[0;31m \u001b[0mnew_var\u001b[0m \u001b[0;34m=\u001b[0m \u001b[0mmark\u001b[0m\u001b[0;34m.\u001b[0m\u001b[0mjoin\u001b[0m\u001b[0;34m(\u001b[0m\u001b[0mvar\u001b[0m\u001b[0;34m)\u001b[0m\u001b[0;34m\u001b[0m\u001b[0;34m\u001b[0m\u001b[0m\n\u001b[0m\u001b[1;32m      5\u001b[0m \u001b[0mprint\u001b[0m\u001b[0;34m(\u001b[0m\u001b[0;34m'new_var'\u001b[0m\u001b[0;34m,\u001b[0m\u001b[0mnew_var\u001b[0m\u001b[0;34m)\u001b[0m\u001b[0;34m\u001b[0m\u001b[0;34m\u001b[0m\u001b[0m\n",
      "\u001b[0;31mTypeError\u001b[0m: sequence item 0: expected str instance, int found"
     ]
    }
   ],
   "source": [
    "# 注意，要连接的这些容器中的元素必须是字符串类型，否则会报错，例如：\n",
    "var = [1,2,3,4]    \n",
    "mark = \"+\"\n",
    "new_var = mark.join(var)\n",
    "print('new_var',new_var)\n"
   ]
  },
  {
   "cell_type": "markdown",
   "metadata": {},
   "source": [
    "4. split()方法\n",
    "\n",
    "    split()方法通过指定分割符对字符串进行切片。\n",
    "    \n",
    "    split()方法的语法格式如下：str.split (st=\" \", num=string.count(str))\n",
    "    \n",
    "    str 代表指定检索的字符串; st 代表分割符，默认为空格; num 代表分割次数。返回结果为分割后的字符串列表。\n"
   ]
  },
  {
   "cell_type": "code",
   "execution_count": 39,
   "metadata": {},
   "outputs": [
    {
     "name": "stdout",
     "output_type": "stream",
     "text": [
      "不提供分割符：\n",
      "['I', 'like', 'china', 'forever', 'and', 'I', 'like', 'swiming', 'forever!!!']\n",
      "根据字母k分割后的字符串：\n",
      "['I li', 'e china forever and I li', 'e swiming forever!!!']\n",
      "根据字母e分割后的字符串：\n",
      "['I lik', ' china for', 'v', 'r and I lik', ' swiming for', 'v', 'r!!!']\n",
      "根据字母e分割2次后的字符串：\n",
      "['I lik', ' china for', 'ver and I like swiming forever!!!']\n"
     ]
    }
   ],
   "source": [
    "var1 = 'I like china forever and I like swiming forever!!!'\n",
    "print('不提供分割符：')\n",
    "print(var1.split())\n",
    "print('根据字母k分割后的字符串：')\n",
    "print(var1.split('k'))\n",
    "print('根据字母e分割后的字符串：')\n",
    "print(var1.split('e'))\n",
    "print('根据字母e分割2次后的字符串：')\n",
    "print(var1.split('e',2))\n"
   ]
  },
  {
   "cell_type": "markdown",
   "metadata": {},
   "source": [
    "5. strip()，lstrip()和rstrip()方法\n",
    "\n",
    "在处理字符串时，通常在字符串的开始和结束位置会存在空白字符（空格、制表符和换行符）或者某些特定的字符（#、-、$等）。 strip()方法用于移除字符串头尾指定的字符，lstrip()用于移除字符串左侧指定的字符，rstrip()用于移除字符串右侧指定的字符。strip()方法的语法格式为：str.strip([chars])，str.lstrip([chars])，str.rstrip([chars])。\n",
    "\n",
    "在这三个方法中，str代表指定检索的字符串，chars 代表移除字符串头尾指定的字符，chars可以为空。strip()方法有返回结果，返回结果是字符串移除头尾指定的字符后所生成的新字符串。若不指定字符，则默认为空格。"
   ]
  },
  {
   "cell_type": "code",
   "execution_count": 45,
   "metadata": {},
   "outputs": [
    {
     "name": "stdout",
     "output_type": "stream",
     "text": [
      "原字符串3：--I-like-china-forever-and-I-like-swiming-forever!!!--,字符串长度为:54\n",
      "新字符串3：I-like-china-forever-and-I-like-swiming-forever!!!,字符串长度为:50\n"
     ]
    }
   ],
   "source": [
    "# var1 = '  I like china forever and I like swiming forever!!!  '\n",
    "# print(f'原字符串1：{var1},字符串长度为:{len(var1)}')\n",
    "# print(f'新字符串1：{var1.rstrip()},字符串长度为:{len(var1.rstrip())}')\n",
    "\n",
    "# var2 = '--I like china forever and I like swiming forever!!!--'\n",
    "# print(f'原字符串2：{var2},字符串长度为:{len(var2)}')\n",
    "# print(f'新字符串2：{var2.strip(\"-\")},字符串长度为:{len(var2.strip(\"-\"))}')\n",
    "\n",
    "var3 = '--I-like-china-forever-and-I-like-swiming-forever!!!--'\n",
    "print(f'原字符串3：{var3},字符串长度为:{len(var3)}')\n",
    "print(f'新字符串3：{var3.strip(\"-\")},字符串长度为:{len(var3.strip(\"-\"))}')\n"
   ]
  },
  {
   "cell_type": "code",
   "execution_count": null,
   "metadata": {},
   "outputs": [],
   "source": [
    "# 利用lstrip()和rstrip()函数\n",
    "var1 = '--I like china forever and I like swiming forever!!!--'\n",
    "print(var1.lstrip('-'))\n",
    "print(var1.rstrip('-'))\n"
   ]
  },
  {
   "cell_type": "markdown",
   "metadata": {},
   "source": [
    "6. find()方法\n",
    "\n",
    "    find()方法用于检测字符串中是否包含指定的子字符串。find()方法的语法格式如下:\n",
    "    str.find(str,beg=0,end=len(string))\n",
    "    \n",
    "    str 代表指定检索的字符串，beg代表开始索引的下标位置，默认为0；end 代表结束索引的下标位置，默认为字符串的长度。返回结果为匹配字符串所在位置的最左端索引下标值，如果没有找到匹配字符串，就返回-1。\n"
   ]
  },
  {
   "cell_type": "code",
   "execution_count": 8,
   "metadata": {},
   "outputs": [
    {
     "name": "stdout",
     "output_type": "stream",
     "text": [
      "var1的字符串长度为:50\n",
      "a 2\n",
      "b 7\n",
      "c -1\n"
     ]
    }
   ],
   "source": [
    "var1 = 'I like china forever and I like swiming forever!!!'\n",
    "print(f'var1的字符串长度为:{len(var1)}')\n",
    "a = var1.find('like')\n",
    "b = var1.find('china')\n",
    "c = var1.find('fish')\n",
    "print('a',a)\n",
    "print('b',b)\n",
    "print('c',c)\n"
   ]
  },
  {
   "cell_type": "code",
   "execution_count": 9,
   "metadata": {},
   "outputs": [
    {
     "name": "stdout",
     "output_type": "stream",
     "text": [
      "a 27\n",
      "b 7\n",
      "c 2\n",
      "d -1\n"
     ]
    }
   ],
   "source": [
    "# find()方法还可以接收起始索引下标参数和结束索引下标参数，用于表示字符串查找的起始点和结束点\n",
    "\n",
    "var1 = 'I like china forever and I like swiming forever!!!'\n",
    "a = var1.find('like',26)    #提供起点\n",
    "b = var1.find('c',7)    #提供起点\n",
    "c = var1.find('like',1,10)    #提供起点和终点\n",
    "d = var1.find('china',20,40)    #提供起点和终点\n",
    "print('a',a)\n",
    "print('b',b)\n",
    "print('c',c)\n",
    "print('d',d)\n"
   ]
  },
  {
   "cell_type": "markdown",
   "metadata": {},
   "source": [
    "7. lower()和upper()方法\n",
    "\n",
    "lower()方法用于将字符串中所有大写字母转换为小写，lower()方法的语法格式如下：\n",
    "\n",
    "str.lower()\n",
    "\n",
    "str 代表指定检索的字符串，该方法不需要参数。返回结果为字符串中所有大写字母转换为小写后生成的字符串。"
   ]
  },
  {
   "cell_type": "code",
   "execution_count": 10,
   "metadata": {},
   "outputs": [
    {
     "name": "stdout",
     "output_type": "stream",
     "text": [
      "调用lower后得到的字符串： just do it\n",
      "调用lower后得到的字符串： hello world!\n"
     ]
    }
   ],
   "source": [
    "var1 = 'JUST DO IT'\n",
    "print('调用lower后得到的字符串：',var1.lower())\n",
    "\n",
    "var2 = 'Hello World!'\n",
    "print('调用lower后得到的字符串：',var2.lower())\n"
   ]
  },
  {
   "cell_type": "code",
   "execution_count": 11,
   "metadata": {},
   "outputs": [
    {
     "name": "stdout",
     "output_type": "stream",
     "text": [
      "a -1\n",
      "b -1\n",
      "c 5\n"
     ]
    }
   ],
   "source": [
    "# 如果想要使某个字符串不受大小写影响，都为小写，就可以使用lower()方法做统一转换。\n",
    "\n",
    "# 如果想要在一个字符串中查找某个子字符串并忽略大小写，也可以使用lower()方法\n",
    "\n",
    "var1 = 'JUST DO IT'\n",
    "a = var1.find('Do')     #var1中的字符串不转换为小写字母，找不到匹配的字符串\n",
    "b = var1.lower().find('Do')     #var1中的字符串先转换为小写字母\n",
    "c = var1.lower().find('Do'.lower())    #都使用lower（）方法转换成小写字母后查找\n",
    "print('a',a)\n",
    "print('b',b)\n",
    "print('c',c)\n"
   ]
  },
  {
   "cell_type": "markdown",
   "metadata": {},
   "source": [
    " upper()将字符串中的小写字母转换为大写字母。upper()法的语法格式如下：\n",
    " \n",
    " str.upper()\n",
    " \n",
    " str 代表指定检索的字符串，该方法不需要参数。返回结果为字符串中所有小写字母转换为大写生成的字符串。\n"
   ]
  },
  {
   "cell_type": "code",
   "execution_count": 12,
   "metadata": {},
   "outputs": [
    {
     "name": "stdout",
     "output_type": "stream",
     "text": [
      "调用upper后得到的字符串： JUST DO IT\n",
      "调用upper后得到的字符串： HELLO WORLD!\n"
     ]
    }
   ],
   "source": [
    "var1 = 'just do it'\n",
    "print('调用upper后得到的字符串：',var1.upper())\n",
    "var2 = 'Hello World!'\n",
    "print('调用upper后得到的字符串：',var2.upper())\n"
   ]
  },
  {
   "cell_type": "code",
   "execution_count": 46,
   "metadata": {},
   "outputs": [
    {
     "data": {
      "text/plain": [
       "'Just Do It'"
      ]
     },
     "execution_count": 46,
     "metadata": {},
     "output_type": "execute_result"
    }
   ],
   "source": [
    "#一次性全部转换为大写\n",
    "var1 = 'just do it'\n",
    "var1.title()"
   ]
  },
  {
   "cell_type": "markdown",
   "metadata": {},
   "source": [
    "8. tartswith()和endswith()方法\n",
    "\n",
    "用于判断字符串是不是以某个子字符串或字符开始或结束，如果是则返回True，否则返回False。\n",
    "\n",
    "语法结构为：str.startswith([char])和str.endswith([char])"
   ]
  },
  {
   "cell_type": "code",
   "execution_count": 13,
   "metadata": {},
   "outputs": [
    {
     "data": {
      "text/plain": [
       "True"
      ]
     },
     "execution_count": 13,
     "metadata": {},
     "output_type": "execute_result"
    }
   ],
   "source": [
    "'hello world!'.startswith('hello')\n",
    "# 'hello world!'.endswith('hello')\n",
    "# 'abc123456'.startswith('Abc')\n",
    "# 'abc123456'.endswith('Abc')\n",
    "\n",
    "'AbC123456'.lower().startswith('abc')"
   ]
  },
  {
   "cell_type": "markdown",
   "metadata": {},
   "source": [
    "## 练习"
   ]
  },
  {
   "cell_type": "code",
   "execution_count": null,
   "metadata": {},
   "outputs": [],
   "source": [
    "1. 定义一个变量， 做格式化输出的对齐，对不齐的部分用空格或其他对应符号填充。\n",
    "2. 使用join()方法实现多个字符串的连接\n",
    "3. 使用for循环test中的每一个元素(test = \"中华人民共和国\")\n",
    "4. 练习：1.将用户的姓名存到一个变量中，并向该用户显示一条消息。显示的消息应非常简单，如“Hello Eric, would you like to learn some Python today?”\n",
    "5. 将一个人名存储到一个变量中，再以小写、大写和首字母大写的方式显示这个人名。"
   ]
  }
 ],
 "metadata": {
  "kernelspec": {
   "display_name": "Python 3",
   "language": "python",
   "name": "python3"
  },
  "language_info": {
   "codemirror_mode": {
    "name": "ipython",
    "version": 3
   },
   "file_extension": ".py",
   "mimetype": "text/x-python",
   "name": "python",
   "nbconvert_exporter": "python",
   "pygments_lexer": "ipython3",
   "version": "3.8.3"
  }
 },
 "nbformat": 4,
 "nbformat_minor": 4
}
