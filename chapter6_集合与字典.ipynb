{
 "cells": [
  {
   "cell_type": "markdown",
   "metadata": {},
   "source": [
    " # 6 集合与字典\n",
    " \n",
    " 集合和字典是Python中另一对重要的数据类型，他们都是可变对象类型。"
   ]
  },
  {
   "cell_type": "markdown",
   "metadata": {},
   "source": [
    "## 6.1 集合"
   ]
  },
  {
   "cell_type": "markdown",
   "metadata": {},
   "source": [
    "## 2.2.3 集合\n",
    "\n",
    "Python中的集合和数学中的概念类似，由一系列元素组成的。\n",
    "\n",
    "不同于前面学过的列表和元组，集合中的元素是无序的并且不可重复的，集合也是标准的Python数据类型，类型为set，表示方法是用{}定界，集合中的元素间用逗号分隔。\n",
    "\n",
    "集合中的元素类型可以是数值、字符串、元组等常规数据类型。集合中的元素类型可以是一种或者多种混合类型数据。\n",
    "\n",
    "\n",
    "注意，列表、集合等类型数据是不可以作为集合元素的。"
   ]
  },
  {
   "cell_type": "markdown",
   "metadata": {},
   "source": [
    "#### 集合与列表、元组的关系\n",
    "\n",
    "列表（list）和元组（tuple）是标准的 Python 数据类型，它们将值存储在一个序列中。\n",
    "\n",
    "集合（set）是另一种标准的 Python 数据类型，它也可用于存储值。它们之间主要的区别在于，集合不同于列表或元组，集合中的每一个元素不能出现多次，并且是无序存储的。\n",
    "\n",
    "#### 集合优势\n",
    "\n",
    "由于集合中的元素不能出现多次，这使得集合在很大程度上能够高效地从列表或元组中删除重复值，并执行取并集、交集等常见的的数学操作。"
   ]
  },
  {
   "cell_type": "markdown",
   "metadata": {},
   "source": [
    "### 6.1.1集合的构造\n",
    "\n",
    "构造集合有两种方法: 一种是直接把元素用花括号{}括起来，花括号中的元素之间用英文模式下的逗号(,)分隔;另一种是用set(obj)方法定义，obj 为一个元素、一个列表或元组。"
   ]
  },
  {
   "cell_type": "code",
   "execution_count": 6,
   "metadata": {},
   "outputs": [],
   "source": [
    "# 定义一个空集合：\n",
    "fruit = set() # 不能用 fruit = {} 构造一个空集合，为什么？"
   ]
  },
  {
   "cell_type": "code",
   "execution_count": 1,
   "metadata": {},
   "outputs": [
    {
     "name": "stdout",
     "output_type": "stream",
     "text": [
      "水果集合里包含 4 个元素\n"
     ]
    }
   ],
   "source": [
    "#通过花括号定义带有元素的集合， 这个集合有几个元素？\n",
    "fruit = {'apple', 'orange', 'apple', 'pear', 'orange', 'banana'}\n",
    "print('水果集合里包含 ' + str(len(fruit)) + ' 个元素')"
   ]
  },
  {
   "cell_type": "markdown",
   "metadata": {},
   "source": [
    "### 6.1.2 修改集合\n",
    "\n",
    "Python中提供了一些集合操作的方法，如：添加、删除、是否存在等方法，可以方便的对集合进行修改。"
   ]
  },
  {
   "cell_type": "markdown",
   "metadata": {},
   "source": [
    " 1. 向集合添加元素："
   ]
  },
  {
   "cell_type": "code",
   "execution_count": 3,
   "metadata": {},
   "outputs": [
    {
     "name": "stdout",
     "output_type": "stream",
     "text": [
      "{'orange', 'banana', 'apple', 'watermelon'}\n"
     ]
    }
   ],
   "source": [
    "fruit.add('watermelon')\n",
    "print(fruit)"
   ]
  },
  {
   "cell_type": "markdown",
   "metadata": {},
   "source": [
    "2. 删除元素，Python提供了四种删除元素的方法，即remove()、discard()、pop()和clear()"
   ]
  },
  {
   "cell_type": "code",
   "execution_count": 4,
   "metadata": {},
   "outputs": [
    {
     "name": "stdout",
     "output_type": "stream",
     "text": [
      "{'orange', 'banana', 'watermelon'}\n"
     ]
    }
   ],
   "source": [
    "# a) 使用remove删除\n",
    "fruit.remove('apple')\n",
    "print(fruit)"
   ]
  },
  {
   "cell_type": "code",
   "execution_count": 10,
   "metadata": {},
   "outputs": [
    {
     "ename": "KeyError",
     "evalue": "'abc'",
     "output_type": "error",
     "traceback": [
      "\u001b[0;31m---------------------------------------------------------------------------\u001b[0m",
      "\u001b[0;31mKeyError\u001b[0m                                  Traceback (most recent call last)",
      "\u001b[0;32m<ipython-input-10-37f563083608>\u001b[0m in \u001b[0;36m<module>\u001b[0;34m\u001b[0m\n\u001b[1;32m      1\u001b[0m \u001b[0;31m#这种方法的一个缺点是，如果你想要删除一个集合中不存在的值，系统会返回一个键值错误 KeyError。\u001b[0m\u001b[0;34m\u001b[0m\u001b[0;34m\u001b[0m\u001b[0;34m\u001b[0m\u001b[0m\n\u001b[0;32m----> 2\u001b[0;31m \u001b[0mfruit\u001b[0m\u001b[0;34m.\u001b[0m\u001b[0mremove\u001b[0m\u001b[0;34m(\u001b[0m\u001b[0;34m'abc'\u001b[0m\u001b[0;34m)\u001b[0m\u001b[0;34m\u001b[0m\u001b[0;34m\u001b[0m\u001b[0m\n\u001b[0m",
      "\u001b[0;31mKeyError\u001b[0m: 'abc'"
     ]
    }
   ],
   "source": [
    "#这种方法的一个缺点是，如果你想要删除一个集合中不存在的值，系统会返回一个键值错误 KeyError。\n",
    "fruit.remove('abc')"
   ]
  },
  {
   "cell_type": "code",
   "execution_count": 5,
   "metadata": {},
   "outputs": [],
   "source": [
    "# b) 使用discard删除元素：\n",
    "fruit.discard('pear')\n",
    "fruit.discard('abc')"
   ]
  },
  {
   "cell_type": "code",
   "execution_count": 6,
   "metadata": {},
   "outputs": [
    {
     "name": "stdout",
     "output_type": "stream",
     "text": [
      "{'banana', 'watermelon'}\n"
     ]
    }
   ],
   "source": [
    "# c) 使用pop删除元素：\n",
    "fruit.pop()\n",
    "print(fruit)"
   ]
  },
  {
   "cell_type": "code",
   "execution_count": 7,
   "metadata": {},
   "outputs": [],
   "source": [
    "# d) 使用clear删除元素\n",
    "fruit.clear() #清空元素"
   ]
  },
  {
   "cell_type": "markdown",
   "metadata": {},
   "source": [
    "### 6.1.3 集合的遍历"
   ]
  },
  {
   "cell_type": "code",
   "execution_count": 59,
   "metadata": {},
   "outputs": [
    {
     "name": "stdout",
     "output_type": "stream",
     "text": [
      "orange\n",
      "watermelon\n",
      "pear\n",
      "banana\n"
     ]
    }
   ],
   "source": [
    "# 1. 使用for循环遍历集合：\n",
    "for x in fruit:\n",
    "    print(x)"
   ]
  },
  {
   "cell_type": "code",
   "execution_count": 3,
   "metadata": {},
   "outputs": [
    {
     "name": "stdout",
     "output_type": "stream",
     "text": [
      "banana\n",
      "pear\n",
      "orange\n",
      "apple\n"
     ]
    }
   ],
   "source": [
    "# 2.使用while循环遍历，不过需要配合使用集合的pop()方法遍历获得集合元素\n",
    "while True:\n",
    "    print(fruit.pop())\n",
    "    if len(fruit)==0:\n",
    "        break\n"
   ]
  },
  {
   "cell_type": "markdown",
   "metadata": {},
   "source": [
    "### 6.1.4 集合操作\n",
    "\n"
   ]
  },
  {
   "cell_type": "code",
   "execution_count": 8,
   "metadata": {},
   "outputs": [
    {
     "name": "stdout",
     "output_type": "stream",
     "text": [
      "False False True\n"
     ]
    }
   ],
   "source": [
    "# 1. 判断某个元素是否在集合中：\n",
    "b1 = 'apple' in fruit # False\n",
    "b2 = 'orange' in fruit # True\n",
    "b3 = 'banana' not in fruit # False\n",
    "print(b1, b2, b3)"
   ]
  },
  {
   "cell_type": "code",
   "execution_count": null,
   "metadata": {},
   "outputs": [],
   "source": [
    "# 注：in和not in也可以用在列表、元组和字典中：\n",
    "3 in [1,2,3]  # True\n",
    "3 in (1,2,3)  # True\n",
    "'a' in { 'a': 80, 'b': 70, 'c': 60 }  # True"
   ]
  },
  {
   "cell_type": "code",
   "execution_count": 8,
   "metadata": {},
   "outputs": [
    {
     "data": {
      "text/plain": [
       "[]"
      ]
     },
     "execution_count": 8,
     "metadata": {},
     "output_type": "execute_result"
    }
   ],
   "source": [
    "# 2.将集合变的有序\n",
    "sorted(fruit) #它会输出一个有序的列表\n",
    "## 反转\n",
    "#sorted(fruit,reverse=True)"
   ]
  },
  {
   "cell_type": "code",
   "execution_count": 20,
   "metadata": {},
   "outputs": [
    {
     "name": "stdout",
     "output_type": "stream",
     "text": [
      "[1, 2, 3, 7]\n"
     ]
    }
   ],
   "source": [
    "# 3. 用集合删除列表中的重复元素\n",
    "print(list(set([1, 2, 3, 1, 7]))) #集合是从列表（list）中删除重复值的最快的方法"
   ]
  },
  {
   "cell_type": "code",
   "execution_count": 1,
   "metadata": {},
   "outputs": [
    {
     "data": {
      "text/plain": [
       "{1, 2, 3, 7}"
      ]
     },
     "execution_count": 1,
     "metadata": {},
     "output_type": "execute_result"
    }
   ],
   "source": [
    "set([1, 2, 3, 1, 7])"
   ]
  },
  {
   "cell_type": "markdown",
   "metadata": {},
   "source": [
    "### 6.1.5 集合运算\n",
    "\n",
    "Python集合中的四种运算包括交集、并集、差集和对称差集运算。\n",
    "\n",
    "（1）交集：运算符为“&”，两个集合相交的部分，即两个集合之间相同的元素；\n",
    "\n",
    "（2）并集，运算符为“|”，合并在一起的集合，即两个集合所有不重复的所有元素；\n",
    "\n",
    "（3）差集，运算符为“-”，两个集合之差，即减数集合中减去被减数集合中的重复元素；\n",
    "\n",
    "（4）对称差集，运算符为“^”， 两个集合之间所有不同元素的集合。\n",
    "\n",
    "例如，a={1,2,3,4} ，b={2,4,6,8} 。\n",
    "\n",
    "a-b为{1,3}，a集合中减去b中出现的2,4 ；\n",
    "\n",
    "a|b 为 {1,2,3,4,6,8}；\n",
    "\n",
    "a&b为a，b中均出现的{2,4}\n"
   ]
  },
  {
   "cell_type": "markdown",
   "metadata": {},
   "source": [
    "\n",
    "#### 练习：\n",
    "利用集合分析活动投票情况。第一小分队有五名队员，序号为1，2，3，4，5；第二小分队也有五名队员，序号为6，7，8，9，10。输入一个得票字符串，求第二小队没有得票的队员。\n",
    "\n",
    "例 如，输入1,5,9,3,1,5,7,4,4,5,4,9,5,10,9\n",
    "\n",
    " \t则输出：6  8\n"
   ]
  },
  {
   "cell_type": "code",
   "execution_count": 10,
   "metadata": {},
   "outputs": [
    {
     "name": "stdin",
     "output_type": "stream",
     "text": [
      " 1,5,9,3,1,5,7,4,4,5,4,9,5,10,9\n"
     ]
    },
    {
     "name": "stdout",
     "output_type": "stream",
     "text": [
      "6  8  "
     ]
    }
   ],
   "source": [
    "a={6,7,8,9,10}      #第二小队序号建立集合a\n",
    "b=set()                 #创建空集合b,存放没有得票的队员\n",
    "number=list(map(int,input().split(',')))    # 输入的得票队员序号创建为列表. 会根据提供的函数对指定序列做映射\n",
    "\n",
    "col_number=set(number)      #将列表number转换为集合，去除重复序号\n",
    "b=a-col_number     #两集合相减\n",
    "c=sorted(list(b))      #为按序输出，排序\n",
    "for i in c:\n",
    "    print(i,end='  ')\n"
   ]
  },
  {
   "cell_type": "markdown",
   "metadata": {},
   "source": [
    "## 6.2 字典\n",
    "\n",
    "在使用汉语字典时，想查找某个汉字时，可以从头到尾一页一页地查找这个汉字， 也可以通过拼音索引或笔画索引快速找到这个汉字，在汉语字典中找拼音索引和笔画索引非常轻松简单。Python中的字典可以让我们轻松的根据某个特定的键找到对应的值。\n",
    "\n",
    "例如，每个同学在进入学校时都会分配一个学号，每个学号代表一个学生，如何建立学号和人名之间的关系呢？Python中可以使用两个列表创建这种关系，但是当学生数较多时，先要创建一个比较大的学生姓名列表， 接着要创建一个和学生姓名列表有同样多元素的序号列表，一旦学生姓名列表或序号列表发生变更，就要将学号列表和学生姓名列表进行重新排列，以保证数据对应关系的正确性。\n",
    "\n",
    "与集合一样，Python中的字典是另外一种可变容器，可以存储任意类型的对象。字典是通过“键值对”来存储数据，在存储和读取数据时，都是根据键的hash运算取得存储地址，通过键读取字典中的元素值。"
   ]
  },
  {
   "cell_type": "markdown",
   "metadata": {},
   "source": [
    "### 6.2.1 构造字典\n",
    "\n",
    "字典是一系列key-value对\n",
    "\n",
    "字典的每个键值 key=>value 对用冒号 : 分割，每个键值对之间用逗号 , 分割，整个字典包括在花括号 {} 中 ,格式如下所示：\n",
    "\n",
    "d = {key1 : value1, key2 : value2 }"
   ]
  },
  {
   "cell_type": "code",
   "execution_count": 27,
   "metadata": {},
   "outputs": [],
   "source": [
    "# 构造一个空字典：\n",
    "person = {}\n",
    "# 这也是一个空字典：\n",
    "person = dict()"
   ]
  },
  {
   "cell_type": "code",
   "execution_count": 6,
   "metadata": {},
   "outputs": [
    {
     "name": "stdout",
     "output_type": "stream",
     "text": [
      "{'name': 'Alice', 'age': 25}\n"
     ]
    }
   ],
   "source": [
    "# 这个字典定义了两个key-value对。\n",
    "person = { 'name': 'Alice', 'age': 25 }\n",
    "\n",
    "print(person)"
   ]
  },
  {
   "cell_type": "code",
   "execution_count": 4,
   "metadata": {},
   "outputs": [
    {
     "data": {
      "text/plain": [
       "{'a': 3, 'b': 3}"
      ]
     },
     "execution_count": 4,
     "metadata": {},
     "output_type": "execute_result"
    }
   ],
   "source": [
    "# 键一般是唯一的，如果重复最后的一个键值对会替换前面的，值不需要唯一。\n",
    "dic = {'a': 3, 'b': 2, 'b': 3}\n",
    "# dic['b']\n",
    "dic"
   ]
  },
  {
   "cell_type": "markdown",
   "metadata": {},
   "source": [
    "### 6.2.2 字典访问\n",
    "\n",
    "对于列表和元组可以通过索引方式访问，而字典中是没有索引号的，但是每个元素的key也相当于索引，可以通过字典中元素的key访问对应的值。"
   ]
  },
  {
   "cell_type": "code",
   "execution_count": 7,
   "metadata": {},
   "outputs": [
    {
     "name": "stdout",
     "output_type": "stream",
     "text": [
      "Alice\n",
      "Your name is Alice\n",
      "Your age is 25\n"
     ]
    }
   ],
   "source": [
    "#1. 访问字典中的值，需要指定字典名和放在方括号内的键。\n",
    "\n",
    "print(person['name'])\n",
    "print('Your name is ' + person['name']) # 'Alice'\n",
    "print('Your age is ' + str(person['age'])) # 25"
   ]
  },
  {
   "cell_type": "code",
   "execution_count": 8,
   "metadata": {},
   "outputs": [
    {
     "ename": "KeyError",
     "evalue": "'abc'",
     "output_type": "error",
     "traceback": [
      "\u001b[0;31m---------------------------------------------------------------------------\u001b[0m",
      "\u001b[0;31mKeyError\u001b[0m                                  Traceback (most recent call last)",
      "\u001b[0;32m<ipython-input-8-dfcf41d8361f>\u001b[0m in \u001b[0;36m<module>\u001b[0;34m\u001b[0m\n\u001b[1;32m      1\u001b[0m \u001b[0;31m# 使用方括号方法可能会引发问题：如果指定的键不存在就会出错。比如：\u001b[0m\u001b[0;34m\u001b[0m\u001b[0;34m\u001b[0m\u001b[0;34m\u001b[0m\u001b[0m\n\u001b[0;32m----> 2\u001b[0;31m \u001b[0mperson\u001b[0m\u001b[0;34m[\u001b[0m\u001b[0;34m'abc'\u001b[0m\u001b[0;34m]\u001b[0m\u001b[0;34m\u001b[0m\u001b[0;34m\u001b[0m\u001b[0m\n\u001b[0m",
      "\u001b[0;31mKeyError\u001b[0m: 'abc'"
     ]
    }
   ],
   "source": [
    "# 使用方括号方法可能会引发问题：如果指定的键不存在就会出错。比如：\n",
    "person['abc']\n"
   ]
  },
  {
   "cell_type": "code",
   "execution_count": 9,
   "metadata": {},
   "outputs": [
    {
     "data": {
      "text/plain": [
       "'Alice'"
      ]
     },
     "execution_count": 9,
     "metadata": {},
     "output_type": "execute_result"
    }
   ],
   "source": [
    "person.get('name')"
   ]
  },
  {
   "cell_type": "code",
   "execution_count": 15,
   "metadata": {},
   "outputs": [
    {
     "data": {
      "text/plain": [
       "'No point value assigned.'"
      ]
     },
     "execution_count": 15,
     "metadata": {},
     "output_type": "execute_result"
    }
   ],
   "source": [
    "#2. 使用get()来访问值。\n",
    "person.get('abc','No point value assigned.')\n",
    "\n",
    "#如果指定的键有可能不存在的情况下，可以考虑使用get()"
   ]
  },
  {
   "cell_type": "markdown",
   "metadata": {},
   "source": [
    "### 6.2.3 修改字典"
   ]
  },
  {
   "cell_type": "code",
   "execution_count": 62,
   "metadata": {},
   "outputs": [
    {
     "name": "stdout",
     "output_type": "stream",
     "text": [
      "{'name': 'Alice', 'age': 25, 'city': 'Hangzhou', 'GPA': 4.5}\n"
     ]
    }
   ],
   "source": [
    "# 向字典添加更多的key-value对。\n",
    "# 字典是一种动态结构，可随时在其中添加键值对。要添加键值对，可以此指定字典名、方括号括起来的键和相关联的值。\n",
    "person['city'] = 'Hangzhou'\n",
    "person['GPA'] = 4.5\n",
    "print(person)"
   ]
  },
  {
   "cell_type": "code",
   "execution_count": null,
   "metadata": {},
   "outputs": [],
   "source": [
    "# 修改字典中的值。\n",
    "person['GPA'] = 4.0\n",
    "print(person)"
   ]
  },
  {
   "cell_type": "code",
   "execution_count": null,
   "metadata": {},
   "outputs": [],
   "source": [
    "# 删除key-value对。\n",
    "del person['age']\n",
    "print(person)"
   ]
  },
  {
   "cell_type": "markdown",
   "metadata": {},
   "source": [
    "### 6.3.4 遍历字典"
   ]
  },
  {
   "cell_type": "markdown",
   "metadata": {},
   "source": [
    "1. 遍历字典中的key-value："
   ]
  },
  {
   "cell_type": "code",
   "execution_count": 33,
   "metadata": {},
   "outputs": [
    {
     "data": {
      "text/plain": [
       "dict_items([('name', 'Alice'), ('age', 25)])"
      ]
     },
     "execution_count": 33,
     "metadata": {},
     "output_type": "execute_result"
    }
   ],
   "source": [
    "person.items() #返回的是一个键值对列表。"
   ]
  },
  {
   "cell_type": "code",
   "execution_count": 35,
   "metadata": {},
   "outputs": [
    {
     "name": "stdout",
     "output_type": "stream",
     "text": [
      "key:name\n",
      "value:Alice\n",
      "key:age\n",
      "value:25\n"
     ]
    }
   ],
   "source": [
    "# \n",
    "for key,value in person.items():\n",
    "    print('Key  : ' + str(key)) \n",
    "    print('Value: ' + str(value))\n",
    "#     print(f'key:{key}')\n",
    "#     print(f\"value:{value}\")"
   ]
  },
  {
   "cell_type": "markdown",
   "metadata": {},
   "source": [
    "2. 遍历字典中的keys()"
   ]
  },
  {
   "cell_type": "code",
   "execution_count": 64,
   "metadata": {},
   "outputs": [
    {
     "name": "stdout",
     "output_type": "stream",
     "text": [
      "dict_keys(['name', 'age', 'city', 'GPA'])\n"
     ]
    }
   ],
   "source": [
    "print(person.keys())"
   ]
  },
  {
   "cell_type": "code",
   "execution_count": 65,
   "metadata": {},
   "outputs": [
    {
     "name": "stdout",
     "output_type": "stream",
     "text": [
      "Key: name\tValue: Alice\n",
      "Key: age\tValue: 25\n",
      "Key: city\tValue: Hangzhou\n",
      "Key: GPA\tValue: 4.5\n"
     ]
    }
   ],
   "source": [
    "    \n",
    "for key in person.keys():\n",
    "    value = person[key]\n",
    "    print('Key: ' + str(key) + '\\t' + 'Value: ' + str(value))"
   ]
  },
  {
   "cell_type": "code",
   "execution_count": 66,
   "metadata": {},
   "outputs": [
    {
     "name": "stdout",
     "output_type": "stream",
     "text": [
      "Key: GPA\tValue: 4.5\n",
      "Key: age\tValue: 25\n",
      "Key: city\tValue: Hangzhou\n",
      "Key: name\tValue: Alice\n"
     ]
    }
   ],
   "source": [
    "# 遍历字典中的key并排序\n",
    "for key in sorted(person.keys()):\n",
    "    value = person[key]\n",
    "    print('Key: ' + str(key) + '\\t' + 'Value: ' + str(value))"
   ]
  },
  {
   "cell_type": "code",
   "execution_count": 10,
   "metadata": {},
   "outputs": [
    {
     "name": "stdout",
     "output_type": "stream",
     "text": [
      "Edward:ruby\n",
      "Jen:python\n",
      "Phil:python\n",
      "Sarah:c\n"
     ]
    }
   ],
   "source": [
    "#按顺序遍历字典中的所有键.\n",
    "#字典总是明确地记录键和值之间的关联关系，但获取字典的元素时，获取顺序是不可预测的。\n",
    "#要以特定的顺序返回元素，一种办法是在for循环中对返回的键进行排序。为此，可使用函 数sorted()\n",
    "favorite_languages = {    \n",
    "    'jen': 'python',    \n",
    "    'sarah': 'c',    \n",
    "    'edward': 'ruby',    \n",
    "    'phil': 'python',    \n",
    "} \n",
    " \n",
    "for name in sorted(favorite_languages.keys()):    \n",
    "    #print(name.title() + \", 谢谢你的投票！\") \n",
    "    print(name.title()+':'+favorite_languages[name])"
   ]
  },
  {
   "cell_type": "code",
   "execution_count": 15,
   "metadata": {},
   "outputs": [
    {
     "name": "stdout",
     "output_type": "stream",
     "text": [
      "Edward:ruby\n",
      "Jen:python\n",
      "Phil:python\n",
      "Sarah:c\n"
     ]
    }
   ],
   "source": [
    "for key in sorted(favorite_languages.keys()):\n",
    "    print(key.title()+\":\"+favorite_languages[key])"
   ]
  },
  {
   "cell_type": "markdown",
   "metadata": {},
   "source": [
    "3. 遍历字典中的value"
   ]
  },
  {
   "cell_type": "code",
   "execution_count": 67,
   "metadata": {},
   "outputs": [
    {
     "name": "stdout",
     "output_type": "stream",
     "text": [
      "Value: Alice\n",
      "Value: 25\n",
      "Value: Hangzhou\n",
      "Value: 4.5\n"
     ]
    }
   ],
   "source": [
    "\n",
    "for value in person.values():\n",
    "    print('Value: ' + str(value))"
   ]
  },
  {
   "cell_type": "code",
   "execution_count": 72,
   "metadata": {},
   "outputs": [
    {
     "data": {
      "text/plain": [
       "{'c', 'python', 'ruby'}"
      ]
     },
     "execution_count": 72,
     "metadata": {},
     "output_type": "execute_result"
    }
   ],
   "source": [
    "set(favorite_languages.values())"
   ]
  },
  {
   "cell_type": "code",
   "execution_count": 73,
   "metadata": {},
   "outputs": [
    {
     "name": "stdout",
     "output_type": "stream",
     "text": [
      "有下面的语言被提到：\n",
      "Python\n",
      "Ruby\n",
      "C\n"
     ]
    }
   ],
   "source": [
    "#通过对包含重复元素的列表调用set()，可让Python找出列表中独一无二的元素，并使用这 些元素来创建一个集合\n",
    "favorite_languages = {    \n",
    "    'jen': 'python',    \n",
    "    'sarah': 'c',    \n",
    "    'edward': 'ruby',    \n",
    "    'phil': 'python',    \n",
    "} \n",
    " \n",
    "print(\"有下面的语言被提到：\") \n",
    "for language in set(favorite_languages.values()):     \n",
    "    print(language.title()) \n",
    " "
   ]
  },
  {
   "cell_type": "markdown",
   "metadata": {},
   "source": [
    "#### 课堂练习\n",
    "1. 使用一个字典来存储一个熟人的信息，包括名、姓、年龄和居住的城市。\n",
    "该字典应包含键first_name、last_name、age和city。将存储在该字典中的每项信息都打印出来。\n",
    "2. 将这个字典的键和值分别用循环打印出来。"
   ]
  },
  {
   "cell_type": "markdown",
   "metadata": {},
   "source": [
    "## 6.4 字典嵌套\n",
    "\n",
    "可以在列表中嵌套字典、在字典中嵌套列表甚至在字典中嵌套字典。"
   ]
  },
  {
   "cell_type": "markdown",
   "metadata": {},
   "source": [
    "### 6.4.1 列表中嵌套字典"
   ]
  },
  {
   "cell_type": "code",
   "execution_count": 1,
   "metadata": {},
   "outputs": [
    {
     "name": "stdout",
     "output_type": "stream",
     "text": [
      "name,alice\n",
      "age,20\n",
      "name,bob\n",
      "age,22\n",
      "name,charlie\n",
      "age,23\n"
     ]
    }
   ],
   "source": [
    "\n",
    "# 字典列表：\n",
    "\n",
    "person0 = { 'name': 'alice', 'age': 20 }\n",
    "person1 = { 'name': 'bob', 'age': 22 }\n",
    "person2 = { 'name': 'charlie', 'age': 23 }\n",
    "persons = [ person0, person1, person2 ]\n",
    "\n",
    "# 要对字典中的元素进行访问，就需要构造双重循环进行遍历。\n",
    "for p in persons:\n",
    "#     print(p['name'], p['age'])\n",
    "    for k,v in p.items():\n",
    "        print(f\"{k},{v}\")"
   ]
  },
  {
   "cell_type": "markdown",
   "metadata": {},
   "source": [
    "#### 练习\n",
    "表头和数据分开显示。\n",
    "\n",
    "name   age\n",
    "\n",
    "alice  20\n",
    "\n",
    "bob    22"
   ]
  },
  {
   "cell_type": "code",
   "execution_count": 17,
   "metadata": {},
   "outputs": [
    {
     "name": "stdout",
     "output_type": "stream",
     "text": [
      "name\tage\t\n",
      "name\tage\n",
      "alice\t20\t\n",
      "bob\t22\t\n",
      "charlie\t23\t\n"
     ]
    }
   ],
   "source": [
    "head=''\n",
    "for k in persons[0].keys():\n",
    "    head+=k+\"\\t\"\n",
    "print(head)\n",
    "# print('name\\tage')\n",
    "for a in persons:\n",
    "    tmp=''\n",
    "    for v in a.values():\n",
    "        tmp+=str(v)+\"\\t\"\n",
    "    print(tmp)"
   ]
  },
  {
   "cell_type": "markdown",
   "metadata": {},
   "source": [
    "### 6.4.2 字典中嵌套列表"
   ]
  },
  {
   "cell_type": "code",
   "execution_count": 23,
   "metadata": {},
   "outputs": [
    {
     "name": "stdout",
     "output_type": "stream",
     "text": [
      "{'姓名': '张三', '省份': ['浙江', '四川', '云南']}\n"
     ]
    },
    {
     "name": "stderr",
     "output_type": "stream",
     "text": [
      "Exception in thread Exception in threading.excepthook:Exception ignored in thread started byException ignored in sys.unraisablehook"
     ]
    },
    {
     "name": "stdout",
     "output_type": "stream",
     "text": [
      "The history saving thread hit an unexpected error (OperationalError('unable to open database file')).History will not be written to the database."
     ]
    }
   ],
   "source": [
    "#某人去过的省份\n",
    "asd = ['浙江','四川','云南']\n",
    "dict1 = {'姓名':'张三','省份':asd}\n",
    "print(dict1)\n"
   ]
  },
  {
   "cell_type": "code",
   "execution_count": 24,
   "metadata": {},
   "outputs": [
    {
     "name": "stdout",
     "output_type": "stream",
     "text": [
      "姓名 张三\n",
      "省份 浙江\n",
      "省份 四川\n",
      "省份 云南\n"
     ]
    }
   ],
   "source": [
    "for k,v in dict1.items():\n",
    "    if type(v)==list:\n",
    "        for x in v:\n",
    "            print(k,x)\n",
    "    else:\n",
    "        print(k,v)  \n"
   ]
  },
  {
   "cell_type": "markdown",
   "metadata": {},
   "source": [
    "### 练习：\n",
    "\n",
    "构造学生信息表，包含学生姓名、年龄、学号以及所选课程。然后打印输出每个学生的选课信息。"
   ]
  },
  {
   "cell_type": "code",
   "execution_count": 24,
   "metadata": {},
   "outputs": [
    {
     "name": "stdout",
     "output_type": "stream",
     "text": [
      "alice\t20\t001\t数据结构\tPython\t操作系统\t\n"
     ]
    }
   ],
   "source": [
    "p={ 'name': 'alice', 'age': 20,'ID':'001','course':['数据结构','Python','操作系统']}\n",
    "\n",
    "x=''\n",
    "for k,v in p.items():\n",
    "    if type(v)==list:\n",
    "        for c in v:\n",
    "            x+=c+\"\\t\"\n",
    "    else:\n",
    "        x+=str(v)+\"\\t\"\n",
    "    \n",
    "print(x)\n",
    "\n",
    "# for k in p:\n",
    "#     name=p['name']\n",
    "#     age=p['age']\n",
    "#     ids=p['ID']\n",
    "#     cours=p['course']\n",
    "#     cos=''\n",
    "#     for c in cours:\n",
    "#         cos+=c+' '\n",
    "# print(f\"{name},{age},{ids},{cos}\")\n",
    "\n",
    "# p_2={'张三':{'age':20,'id':'001','course':['数据结构','c']},\n",
    "#      '李四':{},\n",
    "#      '王五':{}\n",
    "#      '班级':'201'\n",
    "#      '荣誉':[a,b,c,...]\n",
    "#     }"
   ]
  },
  {
   "cell_type": "markdown",
   "metadata": {},
   "source": [
    "### 6.4.3 字典中嵌套字典"
   ]
  },
  {
   "cell_type": "code",
   "execution_count": 77,
   "metadata": {},
   "outputs": [
    {
     "name": "stdout",
     "output_type": "stream",
     "text": [
      "\n",
      "User name: alovelace\n",
      "first:Ada\tlast:Lovelace\tnation:uk\t\n",
      "\n",
      "User name: rfrost\n",
      "first:robert\tlast:frost\tnation:US\t\n"
     ]
    }
   ],
   "source": [
    "# 在字典中存储字典：\n",
    "\n",
    "users = {\n",
    "    'alovelace': {\n",
    "        'first': 'Ada',\n",
    "        'last': 'Lovelace',\n",
    "        'nation': 'uk',\n",
    "        },\n",
    "        \n",
    "    'rfrost': {\n",
    "        'first': 'robert',\n",
    "        'last': 'frost',\n",
    "        'nation': 'US',\n",
    "        },\n",
    "    }\n",
    "    \n",
    "for user_name, user_info in users.items():\n",
    "    print('\\nUser name: ' + user_name)\n",
    "#     full_name = user_info['first'] + ' ' + user_info['last']\n",
    "#     nation = user_info['nation']\n",
    "#     print('\\tFull name: ' + full_name.title())\n",
    "#     print('\\tNation: ' + nation.upper())\n",
    "    st=''\n",
    "    for k,v in user_info.items():\n",
    "        st=st+k+':'+v+'\\t'\n",
    "    print(st)\n",
    "        "
   ]
  },
  {
   "cell_type": "markdown",
   "metadata": {},
   "source": [
    "### 综合练习\n",
    "\n",
    "1. 使用字典统计字符出现次数：输入一行字符，统计每个字符出现的次数\n",
    "\n",
    " \t"
   ]
  },
  {
   "cell_type": "code",
   "execution_count": 25,
   "metadata": {},
   "outputs": [
    {
     "name": "stdin",
     "output_type": "stream",
     "text": [
      "请输入任意一串字符： abcdadddd\n"
     ]
    },
    {
     "name": "stdout",
     "output_type": "stream",
     "text": [
      "{'a': 2, 'b': 1, 'c': 1, 'd': 5}\n",
      "'a': 2次\n",
      "'b': 1次\n",
      "'c': 1次\n",
      "'d': 5次\n"
     ]
    }
   ],
   "source": [
    "'''\n",
    "分析：\n",
    "（1）创建一字典，键是字符，值是字符出现的次数。\n",
    "    由于不能预知出现哪些字符，所以不能预先初始化字典。\n",
    "    \n",
    "（2）注意字典的get函数：get() 函数返回指定键的值，如果值不在字典中返回默认值。\n",
    "countchar.get(c,0)函数返回键为c的值, 不在字典中返回0。\n",
    "\n",
    "\n",
    "'''\n",
    "\n",
    "cstr=input('请输入任意一串字符：')\n",
    "dict={}\n",
    "for c in cstr:\n",
    "    dict[c]=dict.get(c,0)+1\n",
    "print(dict)\n",
    "\n",
    "for key,value in dict.items():\n",
    "    print(\"'{}': {}次\".format(key,value))\n",
    "\n",
    "    2. 给定一段话，统计这段话中出现次数最高的前10个单词。"
   ]
  },
  {
   "cell_type": "markdown",
   "metadata": {},
   "source": [
    "2. 构造学生信息表，包含学生姓名、年龄、学号以及所选课程，然后打印输出每个学生的选课信息"
   ]
  },
  {
   "cell_type": "code",
   "execution_count": 1,
   "metadata": {},
   "outputs": [
    {
     "name": "stdout",
     "output_type": "stream",
     "text": [
      "alice,20,001,数据结构 Python 操作系统 \n"
     ]
    }
   ],
   "source": [
    "p={'name':'alice','age':20,'ID':'001','course':['数据结构','Python','操作系统']}\n",
    "\n",
    "for k in p:\n",
    "    name=p['name']\n",
    "    age=p['age']\n",
    "    ids=p['ID']\n",
    "    cours=p['course']\n",
    "    cos=''\n",
    "    for c in cours:\n",
    "        cos+=c+' '\n",
    "print(f\"{name},{age},{ids},{cos}\")\n"
   ]
  },
  {
   "cell_type": "code",
   "execution_count": null,
   "metadata": {},
   "outputs": [],
   "source": []
  }
 ],
 "metadata": {
  "kernelspec": {
   "display_name": "Python 3",
   "language": "python",
   "name": "python3"
  },
  "language_info": {
   "codemirror_mode": {
    "name": "ipython",
    "version": 3
   },
   "file_extension": ".py",
   "mimetype": "text/x-python",
   "name": "python",
   "nbconvert_exporter": "python",
   "pygments_lexer": "ipython3",
   "version": "3.8.3"
  }
 },
 "nbformat": 4,
 "nbformat_minor": 4
}
