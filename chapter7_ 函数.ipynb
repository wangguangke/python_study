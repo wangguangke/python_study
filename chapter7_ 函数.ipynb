{
 "cells": [
  {
   "cell_type": "markdown",
   "metadata": {},
   "source": [
    "# 第7章 函数\n",
    "\n",
    "在高级语言程序设计中，为了便于程序的编写和代码的复用，通常将相关功能的代码段组织到一起，以固定的格式包装成一个独立的模块，只要知道这个模块的名字，就可以重复使用它，这个模块就叫做函数。函数在Python中是最基本的程序结构，用来最大化地让我们的代码进行复用；与此同时，函数可以把一个错综复杂的系统分割为可管理的多个部分，简化编程、代码复用。\n",
    "\n",
    "我们前面已经学习过不少Python内置函数和模块，比如print、type、id、range、math等。开发者应该尽量多地使用这些现成函数资源，因为这些函数功能稳定可靠，在性能上做了优化处理，且经历了大量用户的检验。然而，Python自带的函数和模块毕竟是有限的，不可能满足用户的各方面需求。因此，与其它高级语言一样，Python也支持自定义函数和模块。"
   ]
  },
  {
   "cell_type": "markdown",
   "metadata": {},
   "source": [
    "## 7.1 函数定义\n",
    "\n",
    "定义函数需要使用def关键字开头，紧跟着函数标识符名称（函数名）和圆括号，圆括号内可以放置一个或多个不同的参数，当然也可以没有参数，但是圆括号是必不可少的。圆括号后面要有冒号“：”标记符，表示从下一行开始的代码为函数体。函数的功能代码放在函数体中，函数体相对于首行处于缩进状态，当某行代码的缩进与def对齐时，表示函数定义结束。具体的语法结构如下："
   ]
  },
  {
   "cell_type": "raw",
   "metadata": {},
   "source": [
    "def 函数名([形参[,...,形参]]):\n",
    "    函数体\n"
   ]
  },
  {
   "cell_type": "markdown",
   "metadata": {},
   "source": [
    "从上面的定义可以看出，def、函数名、圆括号和冒号是不可或缺的。另外，函数体不能为空，如果函数体尚未设计好时，可以使用占位语句pass代替，pass表示空操作，即什么也不做，例如："
   ]
  },
  {
   "cell_type": "raw",
   "metadata": {},
   "source": [
    "def f():\n",
    "    pass\n"
   ]
  },
  {
   "cell_type": "markdown",
   "metadata": {},
   "source": [
    "### 7.1.1 无参数的函数"
   ]
  },
  {
   "cell_type": "code",
   "execution_count": 1,
   "metadata": {},
   "outputs": [
    {
     "name": "stdout",
     "output_type": "stream",
     "text": [
      "Hello\n",
      "Hello\n",
      "Hello\n"
     ]
    }
   ],
   "source": [
    "# 最简单的函数定义，没有参数：\n",
    "def greet_user():\n",
    "    '''显示简单的问候语。\n",
    "    三个引号可用于多行注释。\n",
    "    '''\n",
    "    # 注意缩进。\n",
    "    print('Hello')\n",
    "    \n",
    "# 对函数的调用：\n",
    "greet_user()\n",
    "greet_user() #函数可以多次调用\n",
    "greet_user()"
   ]
  },
  {
   "cell_type": "markdown",
   "metadata": {},
   "source": [
    "### 7.1.2 带参数的函数\n",
    "\n",
    "在调用print()或len()等函数时，是允许我们传入一些值在括号中的，我们把传递的值称为“参数”。当然，我们也可以自己定义可以接受参数的函数。我们在前面定义的函数greet_user()基础上稍作修改，使其可以接受用户姓名作为抬头。为此，可以在定义函数greet_user()中加入参数username，此时，函数体就可以接受传递的值并进行处理。"
   ]
  },
  {
   "cell_type": "code",
   "execution_count": 2,
   "metadata": {},
   "outputs": [
    {
     "name": "stdout",
     "output_type": "stream",
     "text": [
      "Hello,张三\n",
      "Hello there.\n",
      "Hello,李四\n",
      "Hello there.\n"
     ]
    }
   ],
   "source": [
    "def greet_user(username):\n",
    "    '''显示简单的问候语。 三个引号可用于多行注释。 '''    \n",
    "    print('Hello,{}'.format(username))\n",
    "    print('Hello there.') \n",
    "greet_user('张三')\n",
    "greet_user('李四')"
   ]
  },
  {
   "cell_type": "markdown",
   "metadata": {},
   "source": [
    "当然，我们也可以定义带有多个参数的函数，所有参数名都放在圆括号中，参数之间用逗号分隔"
   ]
  },
  {
   "cell_type": "code",
   "execution_count": 9,
   "metadata": {},
   "outputs": [
    {
     "name": "stdout",
     "output_type": "stream",
     "text": [
      "Hello,张三, 我25岁了\n",
      "Hello there.\n"
     ]
    }
   ],
   "source": [
    "def greet_user(username,age):\n",
    "    '''显示简单的问候语。 三个引号可用于多行注释。 '''    \n",
    "    print('Hello,{}, 我{}岁了'.format(username,age))\n",
    "    print('Hello there.')\n",
    "greet_user('张三',25)  # 对函数的调用\n"
   ]
  },
  {
   "cell_type": "code",
   "execution_count": 5,
   "metadata": {},
   "outputs": [
    {
     "name": "stdout",
     "output_type": "stream",
     "text": [
      "Alice speaks Chinese\n",
      "Bob speaks English\n"
     ]
    }
   ],
   "source": [
    "# 多个参数的函数：\n",
    "def speak_language(user_name, language_name):\n",
    "    print(user_name.title() + ' speaks ' + language_name.title())\n",
    "# 实参的传递：位置实参，顺序重要\n",
    "speak_language('alice', 'chinese')\n",
    "speak_language('bob', 'english')"
   ]
  },
  {
   "cell_type": "markdown",
   "metadata": {},
   "source": [
    "## 7.2 函数调用\n",
    "\n",
    "函数定义好后，可以通过外部调用或者在另一个函数调用来执行定义的函数。函数的调用过程中往往需要传递参数，以及函数执行结果的返回值处理。"
   ]
  },
  {
   "cell_type": "markdown",
   "metadata": {},
   "source": [
    "### 7.2.1 形参与实参\n",
    "\n",
    "    形参就是形式上的参数，可以理解为数学上的变量x，没有实际的值，只有通过别人赋值后才有意义。形参只是意义上的一种参数，在函数定义时指定，不占用内存。例如，在定义的函数hello()中， username和age就是形参。\n",
    "\t\n",
    "    实参就是实际意义上的参数，是一个实际存在的参数值，可以是字符串、数字、列表、元组、字典等。实参是在函数调用是实际传递的值，在函数调用时，将要让函数使用的信息放在换括号内。例如在调用函数hello('张三',25)时，“张三”和25都是一个实参，在程序运行过程中将实参“张三”赋给形参username，将25赋给形参age。\n"
   ]
  },
  {
   "cell_type": "code",
   "execution_count": 4,
   "metadata": {},
   "outputs": [
    {
     "name": "stdout",
     "output_type": "stream",
     "text": [
      "Hello, Zhang Lao San!\n",
      "Hello, Wang Lao Wu!\n"
     ]
    }
   ],
   "source": [
    "# 函数定义中的参数叫做：形参\n",
    "def greet_user(user_name):\n",
    "    '''参数user_name必须是一个字符串。\n",
    "    '''\n",
    "    # 注意缩进。\n",
    "    print('Hello, ' + user_name.title() + '!')\n",
    "# 调用有形参的函数时，传递的值为实参。 \n",
    "greet_user('zhang lao san')\n",
    "greet_user('wang lao wu')"
   ]
  },
  {
   "cell_type": "markdown",
   "metadata": {},
   "source": [
    "### 7.2.2 函数参数传递方式\n",
    "\n",
    "如果定义的函数包含多个形参，那么在函数调用时也需要传递多个实参。向函数传递实参的方式有很多，常见的有以下四种方式。"
   ]
  },
  {
   "cell_type": "markdown",
   "metadata": {},
   "source": [
    "1. 按照位置传递实参： 调用函数时，必须将函数调用中的每个实参都关联到函数定义中的一个形参，关联方式是基于实参的顺序，这被称作位置实参。"
   ]
  },
  {
   "cell_type": "code",
   "execution_count": 10,
   "metadata": {},
   "outputs": [
    {
     "name": "stdout",
     "output_type": "stream",
     "text": [
      "3\n"
     ]
    }
   ],
   "source": [
    "# 例：加法器\n",
    "def func(a, b):\n",
    "    print(a+b)\n",
    "func(1, 2)\n"
   ]
  },
  {
   "cell_type": "code",
   "execution_count": 12,
   "metadata": {},
   "outputs": [
    {
     "name": "stdout",
     "output_type": "stream",
     "text": [
      "Hello,25, 我张三岁了\n",
      "Hello there.\n"
     ]
    }
   ],
   "source": [
    "# 例：如果颠倒顺序，会导致错误结果\n",
    "def greet_user(username,age):\n",
    "    '''显示简单的问候语。 三个引号可用于多行注释。 '''    \n",
    "    print('Hello,{}, 我{}岁了'.format(username,age))\n",
    "    print('Hello there.')\n",
    "greet_user(25,'张三')\n"
   ]
  },
  {
   "cell_type": "markdown",
   "metadata": {},
   "source": [
    "2. 按照关键字传递实参，此时顺序不再重要。\n",
    "\n",
    "对于形参较多的函数，记住形参的顺序是较为困难的。为此，可以采用关键字实参法，即传递给函数的是参数名称-值，也称为关键字实参法。因为直接在实参中将形参和实参关联起来，就不存在顺序问题，向函数传递的实参就不会混淆。\n",
    "\n",
    "关键字实参让程序开发过程中无需考虑被调用函数中的实参顺序，还可以清楚地指出被调用函数中各个值的用途。"
   ]
  },
  {
   "cell_type": "code",
   "execution_count": 2,
   "metadata": {},
   "outputs": [
    {
     "name": "stdout",
     "output_type": "stream",
     "text": [
      "Hello,张三, 我25岁了\n",
      "Hello there.\n"
     ]
    }
   ],
   "source": [
    "# 实参的传递：关键字实参，顺序不重要\n",
    "def greet_user(username,age):\n",
    "    '''显示简单的问候语。 三个引号可用于多行注释。 '''    \n",
    "    print('Hello,{}, 我{}岁了'.format(username,age))\n",
    "    print('Hello there.')\n",
    "greet_user(age=25,username='张三')\n",
    "\n"
   ]
  },
  {
   "cell_type": "markdown",
   "metadata": {},
   "source": [
    "3. 使用默认值传递：在定义函数时，可以给每个形参设定一个固定值，即默认值。如果在调用函数时给形参提供了实参，Python将使用指定的实参值；否则的话，Python将使用函数定义时所设定的默认值。因此，如果在函数定义时指定默认值，则可以在函数调用时省略相应的实参。"
   ]
  },
  {
   "cell_type": "code",
   "execution_count": 14,
   "metadata": {},
   "outputs": [
    {
     "name": "stdout",
     "output_type": "stream",
     "text": [
      "Charlie writes programs in Python\n",
      "David writes programs in Java\n"
     ]
    }
   ],
   "source": [
    "# 参数有默认值的函数：\n",
    "# 指定默认值的参数应放在最后，否则调用的时候只能用关键字实参。\n",
    "def write_program(person, lang = 'python'):\n",
    "    print(person.title() + ' writes programs in ' + lang.title())\n",
    "    \n",
    "write_program('charlie')\n",
    "write_program('david', 'java')"
   ]
  },
  {
   "cell_type": "markdown",
   "metadata": {},
   "source": [
    "4. 可变参数（不定长参数）：当函数需要处理的参数个数不确定时，可使用多值参数。\n",
    "\n",
    "Python中有两种可变参数定义方法。\n",
    "\n",
    "a) 带一个型号的可变形参：只需要在形参前面加上一个星号（*），一个带星号形参的函数会在函数被调用时将多个位置实参当成元组的形式传入，也就是传入的多个参数值可以在函数内部进行元组遍历。"
   ]
  },
  {
   "cell_type": "code",
   "execution_count": 4,
   "metadata": {},
   "outputs": [
    {
     "name": "stdout",
     "output_type": "stream",
     "text": [
      "张三\n",
      "20\n",
      "浙江农林大学\n",
      "数计学院\n"
     ]
    }
   ],
   "source": [
    "# 传递任意数量的实参：\n",
    "def fun(name,*args):\n",
    "    print(name)\n",
    "    for i in args:\n",
    "        print(i)\n",
    "\n",
    "fun('张三',20,'浙江农林大学', '数计学院')\n"
   ]
  },
  {
   "cell_type": "markdown",
   "metadata": {},
   "source": [
    "b) 带两个星号的可变形参：只需要在形参前面加上两个星号（*），两个星号形参的函数会在函数被调用时将关键字参数值当成字典的形式传入，在函数内部会把关键字参数当成字典在函数内部进行遍历"
   ]
  },
  {
   "cell_type": "code",
   "execution_count": 5,
   "metadata": {},
   "outputs": [
    {
     "name": "stdout",
     "output_type": "stream",
     "text": [
      "{'x1': 9, 'x2': 1, 'x3': 6, 'x4': 89, 'x5': 100, 'x6': 200}\n",
      "x1 9\n",
      "x2 1\n",
      "x3 6\n",
      "x4 89\n",
      "x5 100\n",
      "x6 200\n",
      "参数个数： 7\n"
     ]
    }
   ],
   "source": [
    "# 传递任意数量的关键字实参：\n",
    "def countnum(a,**d): #计算参数个数\n",
    "    print(d)\n",
    "    for k,v in d.items():\n",
    "        print(k,v)\n",
    "    print('参数个数：',len(d)+1)\n",
    "countnum(3,x1=9,x2=1,x3=6,x4=89,x5=100,x6=200)\n",
    "\n"
   ]
  },
  {
   "cell_type": "markdown",
   "metadata": {},
   "source": [
    "### 7.2.3 返回值return"
   ]
  },
  {
   "cell_type": "code",
   "execution_count": 7,
   "metadata": {},
   "outputs": [
    {
     "data": {
      "text/plain": [
       "99"
      ]
     },
     "execution_count": 7,
     "metadata": {},
     "output_type": "execute_result"
    }
   ],
   "source": [
    "# 返回一个数值的函数：\n",
    "def fibonacci(n):\n",
    "    '''Given a number n, return F(n).\n",
    "    Param: n must be a positive integer.\n",
    "    '''\n",
    "    f_series = [1, 1]\n",
    "    i = 2\n",
    "    while i <= n:\n",
    "        f_series.append(f_series[i-2] + f_series[i-1])\n",
    "        i += 1   \n",
    "    return f_series[n]\n",
    "\n",
    "#print(fibonacci(10))\n",
    "a=fibonacci(10)\n",
    "a+10"
   ]
  },
  {
   "cell_type": "code",
   "execution_count": 11,
   "metadata": {},
   "outputs": [
    {
     "name": "stdout",
     "output_type": "stream",
     "text": [
      "[1, 1, 2, 3, 5, 8, 13, 21, 34, 55, 89]\n",
      "[1, 1, 2, 3, 5, 8, 13, 21, 34, 55, 89]\n",
      "1\n",
      "1\n",
      "2\n",
      "3\n",
      "5\n",
      "8\n",
      "13\n",
      "21\n",
      "34\n",
      "55\n",
      "89\n"
     ]
    }
   ],
   "source": [
    "# 返回一个列表的函数：\n",
    "def fibonacci_series(n):\n",
    "    '''Given a number n, return F(0), ..., F(n)\n",
    "    Param: n must be a positive integer.\n",
    "    '''\n",
    "    f_series = [1, 1]\n",
    "    i = 2\n",
    "    while i <= n:\n",
    "        f_series.append(f_series[i-2] + f_series[i-1])\n",
    "        i += 1   \n",
    "    return f_series\n",
    "    \n",
    "print(fibonacci_series(10))\n",
    "l=fibonacci_series(10)\n",
    "print(l)\n",
    "for i in l:\n",
    "    print(i)"
   ]
  },
  {
   "cell_type": "code",
   "execution_count": 12,
   "metadata": {},
   "outputs": [
    {
     "name": "stdout",
     "output_type": "stream",
     "text": [
      "{'name': 'Zhang Lao San', 'nation': 'China', 'age': 25}\n",
      "name Zhang Lao San\n",
      "nation China\n",
      "age 25\n"
     ]
    }
   ],
   "source": [
    "# 返回字典的函数：\n",
    "def build_person(name, nation, age):\n",
    "    person = { 'name': name, 'nation': nation, 'age': age }\n",
    "    return person\n",
    "    \n",
    "p1 = build_person('Zhang Lao San', 'China', 25)\n",
    "print(p1)\n",
    "\n",
    "for k,v in p1.items():\n",
    "    print(k,v)"
   ]
  },
  {
   "cell_type": "markdown",
   "metadata": {},
   "source": [
    "#### 练习：\n",
    "编写函数，实现统计字符串中字符出现次数。\n",
    "函数调用时，接收键盘输入的字符串，然后将函数计算结果按照以下格式输出\n",
    "字符:次数"
   ]
  },
  {
   "cell_type": "code",
   "execution_count": 21,
   "metadata": {},
   "outputs": [
    {
     "name": "stdin",
     "output_type": "stream",
     "text": [
      "输入字符串: adddddbbbccdd\n"
     ]
    },
    {
     "name": "stdout",
     "output_type": "stream",
     "text": [
      "{'a': 1, 'd': 7, 'b': 3, 'c': 2}\n",
      "a:1\n",
      "d:7\n",
      "b:3\n",
      "c:2\n"
     ]
    }
   ],
   "source": [
    "def c(s):\n",
    "    dic={}\n",
    "    for i in s:\n",
    "        dic[i]=dic.get(i,0)+1\n",
    "    return dic\n",
    "\n",
    "a=input('输入字符串:')\n",
    "r=c(a)\n",
    "#print(r)\n",
    "for k,v in r.items():\n",
    "    print('{}:{}'.format(k,v))"
   ]
  },
  {
   "cell_type": "markdown",
   "metadata": {},
   "source": [
    "### 7.2.4 函数参数传递机制"
   ]
  },
  {
   "cell_type": "code",
   "execution_count": 1,
   "metadata": {},
   "outputs": [
    {
     "name": "stdout",
     "output_type": "stream",
     "text": [
      "Before swap(): a =  3  b =  7\n",
      "In swap(): a =  7  b =  3\n",
      "After swap(): a =  3  b =  7\n"
     ]
    }
   ],
   "source": [
    "# 注：函数参数传递机制的值传递实际上就是将实际参数值的副本（复制品）传入函数，而参数本身不会受到任何影响。\n",
    "# （1）Python函数的参数传递机制是 值传递。\n",
    "def swap(a, b):\n",
    "    a,b = b,a\n",
    "    print(\"In swap(): a = \", a, \" b = \", b)\n",
    "\n",
    "a = 3\n",
    "b = 7\n",
    "print(\"Before swap(): a = \", a, \" b = \", b)\n",
    "swap(a, b)\n",
    "print(\"After swap(): a = \", a, \" b = \", b)"
   ]
  },
  {
   "cell_type": "code",
   "execution_count": 13,
   "metadata": {},
   "outputs": [
    {
     "name": "stdout",
     "output_type": "stream",
     "text": [
      "Before swap(): a =  5  b =  8\n",
      "In swap(): a =  8  b =  5\n",
      "After swap(): a =  8  b =  5\n"
     ]
    }
   ],
   "source": [
    "# （2）如果需要让函数修改某些数据，则可以通过把这些数据\n",
    "#      包装成列表、字典等可变对象进行传递。\n",
    "def swap(dw):\n",
    "    dw['a'], dw['b'] = dw['b'], dw['a']\n",
    "    print(\"In swap(): a = \", dw['a'], \" b = \", dw['b'])\n",
    "\n",
    "dw = { 'a':5, 'b':8 }\n",
    "print(\"Before swap(): a = \", dw['a'], \" b = \", dw['b'])\n",
    "swap(dw)\n",
    "print(\"After swap(): a = \", dw['a'], \" b = \", dw['b'])\n",
    "\n"
   ]
  },
  {
   "cell_type": "markdown",
   "metadata": {},
   "source": [
    "## 7.3 匿名函数\n",
    "\n",
    "除了使用前面的方法定义常规函数之外，还可以用一种更加快捷的方式定义不带名字的函数，即匿名函数。但是，读者不免会有这样的疑问：如果一个函数没有名字，它怎么被调用呢？实时上，匿名函数主流的用法是在定义的同时就被调用。Python中使用lambda关键字创建小巧的匿名函数，lambda 函数可用于任何需要函数对象的地方。lambda匿名函数的基本语法结构如下："
   ]
  },
  {
   "cell_type": "raw",
   "metadata": {},
   "source": [
    "lambda [形参1[，形参2，...,形参n]]:表达式"
   ]
  },
  {
   "cell_type": "code",
   "execution_count": 22,
   "metadata": {},
   "outputs": [
    {
     "name": "stdout",
     "output_type": "stream",
     "text": [
      "6\n",
      "6\n"
     ]
    }
   ],
   "source": [
    "#匿名函数与普通函数对比\n",
    "def sum_function(a,b,c):\n",
    "    return a+b+c\n",
    "\n",
    "\n",
    "sum_lambda=lambda a,b,c: a+b+c\n",
    "print(sum_function(1,2,3))\n",
    "print(sum_lambda(1,2,3))\n"
   ]
  },
  {
   "cell_type": "code",
   "execution_count": 22,
   "metadata": {},
   "outputs": [
    {
     "name": "stdout",
     "output_type": "stream",
     "text": [
      "2\n"
     ]
    }
   ],
   "source": [
    "#匿名函数中可以使用if语句\n",
    "lamb_c=lambda x:x if x%2==0 else x+1\n",
    "\n",
    "# if x%2==0:\n",
    "#     x=x\n",
    "# else:\n",
    "#     x+=1\n",
    "\n",
    "print(lamb_c(2))\n"
   ]
  },
  {
   "cell_type": "markdown",
   "metadata": {},
   "source": [
    "#### 练习：\n",
    "\n",
    "使用匿名函数给fruits列表，按照最后一个字母排序。\n",
    "\n",
    "fruits=['strawberry','fig','apple','cherry','raspberry','banana']"
   ]
  },
  {
   "cell_type": "code",
   "execution_count": 24,
   "metadata": {},
   "outputs": [
    {
     "name": "stdout",
     "output_type": "stream",
     "text": [
      "['apple', 'banana', 'cherry', 'fig', 'raspberry', 'strawberry']\n",
      "['banana', 'apple', 'fig', 'raspberry', 'strawberry', 'cherry']\n",
      "['fig', 'apple', 'cherry', 'banana', 'raspberry', 'strawberry']\n"
     ]
    }
   ],
   "source": [
    "fruits=['strawberry','fig','apple','cherry','raspberry','banana']\n",
    "print(sorted(fruits))\n",
    "print(sorted(fruits,key=lambda word:word[::-1]))\n",
    "#'yrrebwarsts'\n",
    "print(sorted(fruits,key=lambda word:len(word)))"
   ]
  },
  {
   "cell_type": "markdown",
   "metadata": {},
   "source": [
    "### 7.4 全局变量与局部变量"
   ]
  },
  {
   "cell_type": "code",
   "execution_count": 27,
   "metadata": {},
   "outputs": [
    {
     "name": "stdout",
     "output_type": "stream",
     "text": [
      "Before calling test():\n",
      "Alice Bob Charlie\n",
      "---- In test() ----\n",
      "Alice\n",
      "Zhang San\n",
      "Charlie\n",
      "Li Si\n",
      "---- End of test() ----\n",
      "After calling test():\n",
      "Alice Bob Charlie\n"
     ]
    }
   ],
   "source": [
    "# 根据变量定义的位置，变量分为：\n",
    "#   局部变量：在函数中定义的变量和参数。\n",
    "#   全局变量：在函数外面，全局范围内定义的变量。\n",
    "\n",
    "name1 = 'Alice' # 全局变量\n",
    "name2 = 'Bob'\n",
    "name3 = 'Charlie'\n",
    "\n",
    "def test():\n",
    "    name2 = 'Zhang San' # 局部变量，屏蔽了同名的全局变量\n",
    "    name4 = 'Li Si' # 局部变量\n",
    "    print('---- In test() ----')\n",
    "    print(name1)  # 访问的是局部变量\n",
    "    print(name2)  # 访问的是局部变量\n",
    "    print(name3)  # 访问的是全局变量\n",
    "    print(name4)  # 访问的是局部变量\n",
    "    print('---- End of test() ----')\n",
    "    \n",
    "print('Before calling test():')\n",
    "print(name1, name2, name3)\n",
    "test()\n",
    "print('After calling test():')\n",
    "print(name1, name2, name3)"
   ]
  },
  {
   "cell_type": "code",
   "execution_count": 25,
   "metadata": {},
   "outputs": [
    {
     "ename": "NameError",
     "evalue": "name 'name4' is not defined",
     "output_type": "error",
     "traceback": [
      "\u001b[0;31m---------------------------------------------------------------------------\u001b[0m",
      "\u001b[0;31mNameError\u001b[0m                                 Traceback (most recent call last)",
      "\u001b[0;32m<ipython-input-25-db8088200df9>\u001b[0m in \u001b[0;36m<module>\u001b[0;34m\u001b[0m\n\u001b[0;32m----> 1\u001b[0;31m \u001b[0mprint\u001b[0m\u001b[0;34m(\u001b[0m\u001b[0mname4\u001b[0m\u001b[0;34m)\u001b[0m\u001b[0;34m\u001b[0m\u001b[0;34m\u001b[0m\u001b[0m\n\u001b[0m\u001b[1;32m      2\u001b[0m \u001b[0;31m#局部变量只在函数里面调用，在外面是不行的\u001b[0m\u001b[0;34m\u001b[0m\u001b[0;34m\u001b[0m\u001b[0;34m\u001b[0m\u001b[0m\n",
      "\u001b[0;31mNameError\u001b[0m: name 'name4' is not defined"
     ]
    }
   ],
   "source": [
    "print(name4)\n",
    "#局部变量只在函数里面调用，在外面是不行的"
   ]
  },
  {
   "cell_type": "code",
   "execution_count": 30,
   "metadata": {},
   "outputs": [
    {
     "name": "stdout",
     "output_type": "stream",
     "text": [
      "函数内部: 1\n",
      "函数外部: 1\n"
     ]
    }
   ],
   "source": [
    "# global语句：在函数内部修改全局变量，以供外部其它函数使用。\n",
    "gcount = 0\n",
    "def global_test():\n",
    "    global  gcount\n",
    "    #gcount=0\n",
    "    gcount+=1\n",
    "    print ('函数内部:',gcount)\n",
    "global_test()\n",
    "print('函数外部:',gcount)\n"
   ]
  },
  {
   "cell_type": "markdown",
   "metadata": {},
   "source": [
    "## 7.5 递归调用"
   ]
  },
  {
   "cell_type": "markdown",
   "metadata": {},
   "source": [
    "### 7.5.1 函数嵌套调用\n",
    "\n",
    "在Python中，如果一个函数里面调用另外一个函数，我们称之为函数的嵌套调用。"
   ]
  },
  {
   "cell_type": "markdown",
   "metadata": {},
   "source": [
    "例： 编写一个小学口算题生成程序，用户指定题数，随机产生100以内加减法口算题，并根据用户的选择决定是否给出参考答案。\n",
    "\n",
    "编程分析：设计一个cal()函数产生一道口算题，并返回该题的答案。通过另外一个exam()函数根据用户输入的题数，调用cal()函数来生成一批口算题，并将这些题的所有答案返回。主题程序主要完成用户输入和调用exam()函数，并根据情况打印答案。程序代码如下：\n"
   ]
  },
  {
   "cell_type": "code",
   "execution_count": 32,
   "metadata": {},
   "outputs": [
    {
     "name": "stdin",
     "output_type": "stream",
     "text": [
      "请输入题数： 5\n"
     ]
    },
    {
     "name": "stdout",
     "output_type": "stream",
     "text": [
      "80+78=\n",
      "75+37=\n",
      "87+80=\n",
      "12+1=\n",
      "84-9=\n"
     ]
    },
    {
     "name": "stdin",
     "output_type": "stream",
     "text": [
      "是否需要参考答案（是或否）？ 是\n"
     ]
    },
    {
     "name": "stdout",
     "output_type": "stream",
     "text": [
      "[158, 112, 167, 13, 75]\n"
     ]
    }
   ],
   "source": [
    "import random\n",
    "def cal():\n",
    "    a=random.randint(0,99)\n",
    "    b=random.randint(0,99)\n",
    "    if a<b:\n",
    "        a,b=b,a\n",
    "    #r=a-b\n",
    "    c=random.randint(0,1)\n",
    "    if c==0:\n",
    "        #a,r=r,a\n",
    "        print('{}+{}='.format(a,b))\n",
    "        r=a+b\n",
    "    else:\n",
    "        print('{}-{}='.format(a,b))\n",
    "        r=a-b\n",
    "    return r\n",
    "\n",
    "def exam(n):\n",
    "    ans=[]\n",
    "    for i in range(n):\n",
    "        x=cal()\n",
    "        ans.append(x)\n",
    "    return ans\n",
    "\n",
    "n=int(input('请输入题数：'))\n",
    "s=exam(n)\n",
    "a=input('是否需要参考答案（是或否）？')\n",
    "if a=='是':\n",
    "    print(s)\n"
   ]
  },
  {
   "attachments": {
    "8735b417-ca9d-462a-8c0e-6d43e22943cc.png": {
     "image/png": "[encoded data removed]"
    }
   },
   "cell_type": "markdown",
   "metadata": {},
   "source": [
    "### 7.5.2 递归的定义\n",
    "\n",
    "函数作为一种代码封装，可以被其他代码调用，当然也可以被函数自身调用。所谓递归调用就是在函数的内部调用自身的过程。\n",
    "\n",
    "数学上经典的递归例子就是阶乘，n的阶乘可以表示为：n!=n×(n-1)×(n-2)×…×1,n-1的阶乘表示为：(n-1)!=(n-1)×(n-2)×…×1。\n",
    "\n",
    "![image.png](attachment:8735b417-ca9d-462a-8c0e-6d43e22943cc.png)"
   ]
  },
  {
   "attachments": {
    "7de0894c-ddd0-4378-ba79-a609db8e4c7c.png": {
     "image/png": "[encoded data removed]"
    }
   },
   "cell_type": "markdown",
   "metadata": {},
   "source": [
    "![image.png](attachment:7de0894c-ddd0-4378-ba79-a609db8e4c7c.png)\n",
    "\n",
    "由此可见，想要使用递归来解决问题，必须满足三个基本条件：\n",
    "\n",
    "(1). 问题的求解可以使用自身的结构来描述本身，从而实现问题的递推过程。\n",
    "\n",
    "(2). 递推过程具有结束的条件，以及递推结束时的结果。\n",
    "\n",
    "(3). 问题的递推向着递推结束的条件发展。\n"
   ]
  },
  {
   "cell_type": "markdown",
   "metadata": {},
   "source": [
    "### 7.5.3 函数的递归调用\n",
    "\n",
    "递归函数在设计时，只需要少量的代码就可以描述出解题过程所需要的多次重复运算，大大减少程序的代码量。由于递归需要结束条件，递归函数的设计一般都需要一个选择结构来完成。"
   ]
  },
  {
   "cell_type": "code",
   "execution_count": 30,
   "metadata": {},
   "outputs": [
    {
     "name": "stdout",
     "output_type": "stream",
     "text": [
      "4!=24\n"
     ]
    }
   ],
   "source": [
    "def calc_factorial(x):\n",
    "    \"\"\"这是一个求整数阶乘的递归函数\"\"\"\n",
    "    if x == 1:\n",
    "        return 1\n",
    "    else:\n",
    "        return (x * calc_factorial(x-1)) 3*f(2) 2*f(1) 4*3*2*1\n",
    "num = 4\n",
    "res=calc_factorial(num)\n",
    "print(\"{}!={}\".format(num,res))\n"
   ]
  },
  {
   "cell_type": "code",
   "execution_count": 33,
   "metadata": {},
   "outputs": [
    {
     "data": {
      "text/plain": [
       "6765"
      ]
     },
     "execution_count": 33,
     "metadata": {},
     "output_type": "execute_result"
    }
   ],
   "source": [
    "# 求斐波那契额数列的第n项\n",
    "\n",
    "def fib(n):\n",
    "    if n==1 or n==2:\n",
    "        return 1\n",
    "    else:\n",
    "        return fib(n-1)+fib(n-2)\n",
    "fib(20)"
   ]
  },
  {
   "cell_type": "markdown",
   "metadata": {},
   "source": [
    "#### 练习\n",
    "1. 编写一个函数，接收字符串参数，返回一个元组，元组中第一个值为大写字母的个数，第二个值为小写字母的个数。"
   ]
  },
  {
   "cell_type": "markdown",
   "metadata": {},
   "source": [
    "2. 编写一个函数calculate,可以接收任意多个数，返回的是一个元组，元组第一个值为所有参数的平均值，第二个值是大于平均值的所有数。"
   ]
  },
  {
   "cell_type": "markdown",
   "metadata": {},
   "source": [
    "3. 编写函数，接收一个列表和一个整数k，返回一个新的列表。要求如下：\n",
    "\n",
    "    -将其列表下标k之前对应的元素逆序（不含k）\n",
    "\n",
    "    -将下标k之后的元素逆序（不含k）"
   ]
  },
  {
   "cell_type": "code",
   "execution_count": null,
   "metadata": {},
   "outputs": [],
   "source": [
    "\n"
   ]
  }
 ],
 "metadata": {
  "kernelspec": {
   "display_name": "Python 3",
   "language": "python",
   "name": "python3"
  },
  "language_info": {
   "codemirror_mode": {
    "name": "ipython",
    "version": 3
   },
   "file_extension": ".py",
   "mimetype": "text/x-python",
   "name": "python",
   "nbconvert_exporter": "python",
   "pygments_lexer": "ipython3",
   "version": "3.8.3"
  }
 },
 "nbformat": 4,
 "nbformat_minor": 4
}
