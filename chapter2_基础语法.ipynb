{
 "cells": [
  {
   "cell_type": "markdown",
   "metadata": {},
   "source": [
    "## 2.5.5. 字符串定义与格式化\n",
    "\n",
    "    Python采用字符串来表示和存储文本，字符串也是最常用的数据类型。Python中的字符串是用成对的单引号、双引号或者三引号界定的。"
   ]
  },
  {
   "cell_type": "code",
   "execution_count": 1,
   "metadata": {},
   "outputs": [
    {
     "name": "stdout",
     "output_type": "stream",
     "text": [
      "I told my friend, \"Python is my favorite language!\"\n",
      "What's the weather now?\n",
      "Python程序设计\n"
     ]
    }
   ],
   "source": [
    "#例1：定义字符串\n",
    "s1='I told my friend, \"Python is my favorite language!\"'\n",
    "s2=\"What's the weather now?\"\n",
    "s3='''Python程序设计'''\n",
    "print(s1)\n",
    "print(s2)\n",
    "print(s3)"
   ]
  },
  {
   "cell_type": "markdown",
   "metadata": {},
   "source": [
    "### 2.5.5.1 定义多行字符串\n",
    "\n",
    "    可以将一个字符串定义在多行上。Python中可以使用三引号、续行符（\\n）、圆括号三种方式将一个字符串定义在多行上。"
   ]
  },
  {
   "cell_type": "code",
   "execution_count": 2,
   "metadata": {},
   "outputs": [
    {
     "name": "stdout",
     "output_type": "stream",
     "text": [
      "Python\n",
      "程序\n",
      "设计\n",
      "\n"
     ]
    }
   ],
   "source": [
    "#例2： 利用三引号定义多行字符串\n",
    "st=\"\"\"Python\n",
    "程序\n",
    "设计\n",
    "\"\"\"\n",
    "st\n",
    "# print(st)"
   ]
  },
  {
   "cell_type": "code",
   "execution_count": 4,
   "metadata": {},
   "outputs": [
    {
     "data": {
      "text/plain": [
       "'python程序设计'"
      ]
     },
     "execution_count": 4,
     "metadata": {},
     "output_type": "execute_result"
    }
   ],
   "source": [
    "#例3：利用续行符\\实现多行字符串\n",
    "st='python\\\n",
    "程序\\\n",
    "设计'\n",
    "\n",
    "#下面这种方式会报错\n",
    "# st='python\\\n",
    "# 程序\\\n",
    "# 设计\n",
    "# '\n",
    "st"
   ]
  },
  {
   "cell_type": "code",
   "execution_count": 7,
   "metadata": {},
   "outputs": [
    {
     "data": {
      "text/plain": [
       "'123456789'"
      ]
     },
     "execution_count": 7,
     "metadata": {},
     "output_type": "execute_result"
    }
   ],
   "source": [
    "#例4：利用括号定义多行字符串\n",
    "st=(\n",
    "\"123\"\n",
    "    '456'\n",
    "    '789'\n",
    ")\n",
    "st"
   ]
  },
  {
   "cell_type": "markdown",
   "metadata": {},
   "source": [
    "### 2.5.5.2 字符串格式化\n",
    "\n",
    "字符串格式化是将数据按照某种格式要求，转换为字符串。在Python中，字符串格式化有三种：%格式、format格式和f-string格式。"
   ]
  },
  {
   "cell_type": "markdown",
   "metadata": {},
   "source": [
    "1. %格式，这个是Python较早版本中的格式化方法，使用%格式化字符串时，是以一个字符串作为模板。\n",
    "\n",
    " 模板是由普通字符串和包含%的格式符组成的，%格式符为真实值的预留位置，并且还规定了真实值应该呈现的格式。\n",
    " \n",
    " 语法格式为：%[flag][width][.precision]type\n",
    " \n",
    " flag:为预留值设置对齐方式。-：左对齐，+：右对齐，0：右对齐，并在显示数字之前填充0。默认是右对齐。\n",
    " \n",
    " width：指定数据的输出宽度，可以省略。\n",
    " \n",
    " .precision:指定数值型数据保留的小数位数。\n",
    " \n",
    " type:指定的格式符，不可以省略。%s:表示字符串，%d:表示整数，%f：表示小数。"
   ]
  },
  {
   "cell_type": "code",
   "execution_count": 19,
   "metadata": {},
   "outputs": [
    {
     "name": "stdout",
     "output_type": "stream",
     "text": [
      "    2\n",
      "2    \n",
      "00002\n"
     ]
    }
   ],
   "source": [
    "#例5 使用%格式化输出整数字符串\n",
    "\n",
    "print('%5d' %2) #flag省略，默认右对齐，左侧补空白\n",
    "\n",
    "print('%-5d' %2) #左侧对齐，右侧补空白\n",
    "\n",
    "print('%05d' %2) #右侧对齐，左侧补0"
   ]
  },
  {
   "cell_type": "markdown",
   "metadata": {},
   "source": [
    "注意：上例中的5表示输出字符长度是5，%d表示指定的数据类型为整数。"
   ]
  },
  {
   "cell_type": "code",
   "execution_count": 9,
   "metadata": {},
   "outputs": [
    {
     "name": "stdout",
     "output_type": "stream",
     "text": [
      "3.140000\n",
      "  3.14\n",
      "003.14\n"
     ]
    }
   ],
   "source": [
    "#例6 使用%格式化输出浮点数字符串\n",
    "print('%f' %3.14)\n",
    "print('%6.2f' %3.14) #默认右侧对齐，左侧补0，6表示字符串的长度为6（包含小数点），.2表示保留小数点后面2位\n",
    "\n",
    "print('%06.2f' % 3.14)"
   ]
  },
  {
   "cell_type": "code",
   "execution_count": 8,
   "metadata": {},
   "outputs": [
    {
     "name": "stdout",
     "output_type": "stream",
     "text": [
      "abc  \n"
     ]
    }
   ],
   "source": [
    "print('%-5s' % 'abc')"
   ]
  },
  {
   "cell_type": "code",
   "execution_count": 11,
   "metadata": {},
   "outputs": [
    {
     "name": "stdout",
     "output_type": "stream",
     "text": [
      "张三的数学成绩是68.80\n"
     ]
    }
   ],
   "source": [
    "print('%s的数学成绩是%4.2f' % ('张三',68.8))"
   ]
  },
  {
   "cell_type": "markdown",
   "metadata": {},
   "source": [
    "2. format格式，是Python2.6之后的版本中提供的方法，比%格式化方法更强，更灵活。format的语法格式如下：\n",
    "\n",
    "<格式字符串>.format(<参数>)\n",
    "\n",
    "<格式字符串>由普通字符串和{替换格式符}组成的字符串\n",
    "\n",
    "<参数》:匹配替换的内容。\n",
    "\n",
    "format函数的参数值会替换格式字符串中阈值匹配的替换字符。常用的匹配方法有：序号匹配和键值对匹配。"
   ]
  },
  {
   "cell_type": "markdown",
   "metadata": {},
   "source": [
    "1). 序号匹配，format函数中的的参数序号默认从0开始。如果替换字段名以数字序号形式给出，那么它将与format()函数对应序号上的参数进行匹配。如果格式字符串中的{}中没有指定序号，则按照格式字符串中{}出现的先后顺序基于参数进行匹配"
   ]
  },
  {
   "cell_type": "code",
   "execution_count": 12,
   "metadata": {},
   "outputs": [
    {
     "name": "stdout",
     "output_type": "stream",
     "text": [
      "python和java都是流行的程序设计语言\n",
      "python和java都是流行的程序设计语言\n",
      "java和python都是流行的程序设计语言\n"
     ]
    }
   ],
   "source": [
    "#例7 通过序号匹配字符串\n",
    "print('{0}和{1}都是流行的程序设计语言'.format('python','java'))\n",
    "print('{}和{}都是流行的程序设计语言'.format('python','java'))\n",
    "print('{}和{}都是流行的程序设计语言'.format('java','python'))"
   ]
  },
  {
   "cell_type": "markdown",
   "metadata": {},
   "source": [
    "2).键值对匹配法，format()函数中的参数可以以键值对方式给出，形如a=12的形式，且{}中也以键来表示，那么它将匹配对应参数名称，并用键的值替换。"
   ]
  },
  {
   "cell_type": "code",
   "execution_count": 13,
   "metadata": {},
   "outputs": [
    {
     "name": "stdout",
     "output_type": "stream",
     "text": [
      "书名:python,单价:45\n",
      "python和java都是流行的程序设计语言\n"
     ]
    }
   ],
   "source": [
    "#例8 使用键值匹配字符串\n",
    "\n",
    "print('书名:{name},单价:{price}'.format(name='python',price=45))\n",
    "print('{name1}和{name2}都是流行的程序设计语言'.format(name2='java',name1='python'))"
   ]
  },
  {
   "cell_type": "markdown",
   "metadata": {},
   "source": [
    "3.  f-string格式，是Python3.6才添加的格式化字符串方法。与前面两种方法相比，这种方法更易读，更简洁，不易出错，速度也更快。\n",
    "\n",
    "f-string在形式上是以f或F引领的字符串，以大括号{}表明被替换的字段。"
   ]
  },
  {
   "cell_type": "code",
   "execution_count": 28,
   "metadata": {},
   "outputs": [
    {
     "name": "stdout",
     "output_type": "stream",
     "text": [
      "张三的年龄是24\n",
      "张三的年龄是否大于18？True\n"
     ]
    }
   ],
   "source": [
    "#例9 f-string格式化\n",
    "name='张三'\n",
    "age=24\n",
    "print(f'{name}的年龄是{age}')\n",
    "\n",
    "#{}中也可以是表达式\n",
    "print(f'{name}的年龄是否大于18？{age>18}')\n",
    "      "
   ]
  },
  {
   "cell_type": "markdown",
   "metadata": {},
   "source": [
    "### 2.5.6 None\n",
    "\n",
    "Python中的None是一个特殊的常量。它既不是0，也不是False，也不是空字符串。它只是一个空值的对象，也就是一个空的对象，只是没有赋值而已。None 可作为一个对象，该对象的类型为：NoneType。None 表示的含义，更多的是一种不存在，是真正的空，而不是空列表（[]）的空，也不是空的字符串。"
   ]
  },
  {
   "cell_type": "code",
   "execution_count": 30,
   "metadata": {},
   "outputs": [
    {
     "data": {
      "text/plain": [
       "NoneType"
      ]
     },
     "execution_count": 30,
     "metadata": {},
     "output_type": "execute_result"
    }
   ],
   "source": [
    "type(None)"
   ]
  },
  {
   "cell_type": "markdown",
   "metadata": {},
   "source": [
    "## 2.6 运算符\n",
    "\n",
    "运算符是Python 用于表示数据对象执行某种运算的符号。运算符按其功能可以划分为算术运算符、关系运算符、逻辑运算符、赋值运算符、位运算符、成员运算符、身份运算符等。\n",
    "\n",
    "\n"
   ]
  },
  {
   "cell_type": "markdown",
   "metadata": {},
   "source": [
    "### 2.6.1 算术运算\n",
    "\n",
    " “-” (求负)\n",
    " \n",
    " “+”、\n",
    " \n",
    " “-”、\n",
    " \n",
    " “*”、\n",
    " \n",
    " “/”、\n",
    " \n",
    " \"//\" #整除求商运算\n",
    " \n",
    " \"%\" #取模运算\n",
    " \n",
    " \"**\" #指数运算\n",
    "\n"
   ]
  },
  {
   "cell_type": "code",
   "execution_count": 32,
   "metadata": {},
   "outputs": [
    {
     "name": "stdout",
     "output_type": "stream",
     "text": [
      "x-y= 9\n",
      "x+y= 17\n",
      "x*y= 52\n",
      "x/y= 3.25\n",
      "x//y= 3\n",
      "x%y= 1\n",
      "x**y= 28561\n"
     ]
    }
   ],
   "source": [
    "#例10：算术运算\n",
    "x=13\n",
    "y=4\n",
    "print('x-y=',x-y)   #减法运算\n",
    "print('x+y=',x+y)   #加法运算\n",
    "print('x*y=',x*y)   #乘法运算\n",
    "print('x/y=',x/y)   #除法运算\n",
    "print('x//y=',x//y) #求熵运算\n",
    "print('x%y=',x%y)   #取模运算\n",
    "print('x**y=',x**y) #指数运算\n"
   ]
  },
  {
   "cell_type": "markdown",
   "metadata": {},
   "source": [
    "### 2.6.2 比较运算\n",
    "\n",
    "    用于比较两个数的大小，运算结果为逻辑值True或False。\n",
    "    \n",
    "    ==：等于\n",
    "    \n",
    "    ！=：不等于\n",
    "    \n",
    "    >:大于\n",
    "    \n",
    "    >=:大于等于\n",
    "    \n",
    "    <:小于\n",
    "    \n",
    "    <=：小于等于"
   ]
  },
  {
   "cell_type": "code",
   "execution_count": 34,
   "metadata": {},
   "outputs": [
    {
     "name": "stdout",
     "output_type": "stream",
     "text": [
      "False\n",
      "True\n",
      "False\n",
      "True\n"
     ]
    }
   ],
   "source": [
    "#例11 数值比较运算\n",
    "\n",
    "x=2\n",
    "y=3\n",
    "print(x==y)\n",
    "print(x!=y)\n",
    "print(x>=y)\n",
    "print(x<=y)"
   ]
  },
  {
   "cell_type": "code",
   "execution_count": 35,
   "metadata": {},
   "outputs": [
    {
     "data": {
      "text/plain": [
       "False"
      ]
     },
     "execution_count": 35,
     "metadata": {},
     "output_type": "execute_result"
    }
   ],
   "source": [
    "#例12：浮点数也可以与整数进行比较\n",
    "2.3>=5"
   ]
  },
  {
   "cell_type": "code",
   "execution_count": 36,
   "metadata": {},
   "outputs": [
    {
     "data": {
      "text/plain": [
       "False"
      ]
     },
     "execution_count": 36,
     "metadata": {},
     "output_type": "execute_result"
    }
   ],
   "source": [
    "#字符串的比较，比较规则是从最首位字符开始，逐一比较相应字符的ASCII值。\n",
    "'hello'<='Hello' #字符h的ASCII值大于H"
   ]
  },
  {
   "cell_type": "code",
   "execution_count": 14,
   "metadata": {},
   "outputs": [
    {
     "data": {
      "text/plain": [
       "True"
      ]
     },
     "execution_count": 14,
     "metadata": {},
     "output_type": "execute_result"
    }
   ],
   "source": [
    "'heLlo'<='hello'"
   ]
  },
  {
   "cell_type": "markdown",
   "metadata": {},
   "source": [
    "### 2.6.3 逻辑运算符\n",
    "    p为真命题，q为假命题，则p且q为假，p或q为真，非q为真。"
   ]
  },
  {
   "cell_type": "code",
   "execution_count": 38,
   "metadata": {},
   "outputs": [
    {
     "data": {
      "text/plain": [
       "True"
      ]
     },
     "execution_count": 38,
     "metadata": {},
     "output_type": "execute_result"
    }
   ],
   "source": [
    "#1. 非操作，not，得到和操作数相反的逻辑值。not True为False，not False为True。\n",
    "\n",
    "x=True\n",
    "y=False\n",
    "not x\n",
    "# not y"
   ]
  },
  {
   "cell_type": "code",
   "execution_count": 41,
   "metadata": {},
   "outputs": [
    {
     "data": {
      "text/plain": [
       "False"
      ]
     },
     "execution_count": 41,
     "metadata": {},
     "output_type": "execute_result"
    }
   ],
   "source": [
    "# 注意，对于任意的整数、浮点数、复数、以及字符串等，他们的值都为True。所以在这些值之前加上not返回的结果为False\n",
    "\n",
    "a=4\n",
    "b=4.4\n",
    "c='st'\n",
    "d=2+3j\n",
    "not a"
   ]
  },
  {
   "cell_type": "code",
   "execution_count": 42,
   "metadata": {},
   "outputs": [
    {
     "data": {
      "text/plain": [
       "False"
      ]
     },
     "execution_count": 42,
     "metadata": {},
     "output_type": "execute_result"
    }
   ],
   "source": [
    "#2. 与操作，and，表示...且...的逻辑，只有两个操作数都为True时，结果才为True，如果一个为False，结果为False。例如，只有学生各科成绩都大于90分以上时才有资格评优，就是“且”的逻辑\n",
    "\n",
    "x=True\n",
    "y=False\n",
    "x and y"
   ]
  },
  {
   "cell_type": "code",
   "execution_count": 43,
   "metadata": {},
   "outputs": [
    {
     "data": {
      "text/plain": [
       "True"
      ]
     },
     "execution_count": 43,
     "metadata": {},
     "output_type": "execute_result"
    }
   ],
   "source": [
    "#3. 或操作，or，表示要么...要么...的逻辑，只有两个操作数都为False时，结果才为False，如果有一个为True，结果就是True。\n",
    "\n",
    "x=True\n",
    "y=False\n",
    "x or y"
   ]
  },
  {
   "cell_type": "markdown",
   "metadata": {},
   "source": [
    "练一练：如果某学校设置了评优的条件，语文和英语中至少有1门大于90分，且数学大于90分。假设某学生的成绩分别：语文92，英语86，数学88，则逻辑表达式为？"
   ]
  },
  {
   "cell_type": "code",
   "execution_count": 46,
   "metadata": {},
   "outputs": [
    {
     "data": {
      "text/plain": [
       "False"
      ]
     },
     "execution_count": 46,
     "metadata": {},
     "output_type": "execute_result"
    }
   ],
   "source": [
    "chinese=92\n",
    "English=86\n",
    "Math=88\n",
    "\n",
    "# chinese>90 or English>86 and Math>88\n",
    "\n",
    "(chinese>90 or English>86) and Math>90"
   ]
  },
  {
   "cell_type": "markdown",
   "metadata": {},
   "source": [
    "### 2.6.4 成员运算符\n",
    "\n",
    "Python中的成员运算符是用于测试某个对象是否为某个容器对象中的数据成员的运算符，这里的容器对象是指字符串、列表、元组或集合。"
   ]
  },
  {
   "cell_type": "code",
   "execution_count": 48,
   "metadata": {},
   "outputs": [
    {
     "name": "stdout",
     "output_type": "stream",
     "text": [
      "P在字符串a中吗？ True\n",
      "p在字符串a中吗？ False\n",
      "Python在a中吗？ True\n"
     ]
    }
   ],
   "source": [
    "# in： baohanyu ,a in b，a是否包含在b中\n",
    "\n",
    "a='Python程序设计'\n",
    "print('P在字符串a中吗？','P' in a)\n",
    "print('p在字符串a中吗？','p' in a)\n",
    "print('Python在a中吗？','Python' in a)\n"
   ]
  },
  {
   "cell_type": "code",
   "execution_count": 49,
   "metadata": {},
   "outputs": [
    {
     "name": "stdout",
     "output_type": "stream",
     "text": [
      "p不在字符串a中: True\n"
     ]
    }
   ],
   "source": [
    "# not in: 与in相反，a not in b，判断一个字符或字符串a不在字符串b中。\n",
    "a='Python程序设计'\n",
    "print('p不在字符串a中:','p' not in a)\n"
   ]
  },
  {
   "cell_type": "markdown",
   "metadata": {},
   "source": [
    "### 2.6.5 表达式及运算优先级\n",
    "\n",
    "表达式是由操作数和运算符组成的，将操作数通过运算符按一定规则连接起来的式子。\n",
    "表达式执行指定的运算并返回结果，如“a + b\"和“x > y”等都是表达式。\n",
    "表达式的计算结果通常用于对变量赋值或作为程序控制的条件。\n",
    "\n",
    "表达式的计算需要按照运算符的优先顺序从高到低依次进行。运算符的优先级是值当多个运算符同时出现在一个表达式时限制性哪个运算，决定了表达式中各运算符执行的先后顺序。\n",
    "\n",
    "算术运算>关系运算>逻辑运算>赋值运算"
   ]
  },
  {
   "cell_type": "code",
   "execution_count": 55,
   "metadata": {},
   "outputs": [
    {
     "name": "stdout",
     "output_type": "stream",
     "text": [
      "(a + b) * c / d 运算结果为： 90.0\n",
      "((a + b) * c) / d 运算结果为： 90.0\n",
      "(a + b) * (c / d) 运算结果为： 90.0\n",
      "a + (b * c) / d 运算结果为： 50.0\n"
     ]
    }
   ],
   "source": [
    "#表达式可以用()改变优先级，括号内的有限计算。\n",
    "#例13\n",
    "\n",
    "a = 20\n",
    "b = 10\n",
    "c = 15\n",
    "d = 5\n",
    "e = (a + b) * c / d       #( 30 * 15 ) / 5\n",
    "print(\"(a + b) * c / d 运算结果为：\",  e)\n",
    "e = ((a + b) * c) / d     # (30 * 15 ) / 5\n",
    "print(\"((a + b) * c) / d 运算结果为：\",  e)\n",
    "e = (a + b) * (c / d);    # (30) * (15/5)\n",
    "print(\"(a + b) * (c / d) 运算结果为：\",  e)\n",
    "e = a + (b * c) / d;      #  20 + (150/5)\n",
    "print(\"a + (b * c) / d 运算结果为：\",  e)\n"
   ]
  },
  {
   "cell_type": "markdown",
   "metadata": {},
   "source": [
    "### 2.6.6 身份运算符\n",
    "Python中一切都是对象，变量中存放的是对象的引用，每一个对象在内存中都有一个内存地址。Python使用id()函数获得对象在其生命周期内位于内存中的地址。"
   ]
  },
  {
   "cell_type": "code",
   "execution_count": 16,
   "metadata": {},
   "outputs": [
    {
     "data": {
      "text/plain": [
       "4414994912"
      ]
     },
     "execution_count": 16,
     "metadata": {},
     "output_type": "execute_result"
    }
   ],
   "source": [
    "id(5)\n",
    "a=5\n",
    "id(a)"
   ]
  },
  {
   "cell_type": "code",
   "execution_count": 51,
   "metadata": {},
   "outputs": [
    {
     "data": {
      "text/plain": [
       "140262602441904"
      ]
     },
     "execution_count": 51,
     "metadata": {},
     "output_type": "execute_result"
    }
   ],
   "source": [
    "id('abc')"
   ]
  },
  {
   "cell_type": "markdown",
   "metadata": {},
   "source": [
    "身份运算符是判定两个变量所指的存储区域是否相同的运算符。包含两种运算符:is 和is not。\n",
    "\n",
    "is与“==”是有区别的。“==”比较的是两个对象的内容是否相等，即两个对象的“值”是否相等，不考虑两者在内存中的引用地址是否一样。而is不仅比较的内容是不是完全相同，还要比较是不是在内存中的地址也相同。"
   ]
  },
  {
   "cell_type": "code",
   "execution_count": 17,
   "metadata": {},
   "outputs": [
    {
     "name": "stdout",
     "output_type": "stream",
     "text": [
      "140291212686704 140291212686704 140291207641456\n",
      "a is b: True\n",
      "a is c: False\n",
      "a==b: True\n",
      "a==c: False\n"
     ]
    }
   ],
   "source": [
    "# is\n",
    "a='python'\n",
    "b='python'\n",
    "c='Python'\n",
    "print(id(a),id(b),id(c))\n",
    "print('a is b:',a is b)\n",
    "print('a is c:',a is c)\n",
    "print('a==b:',a==b)\n",
    "print('a==c:',a==c)\n"
   ]
  },
  {
   "cell_type": "code",
   "execution_count": 53,
   "metadata": {},
   "outputs": [
    {
     "data": {
      "text/plain": [
       "True"
      ]
     },
     "execution_count": 53,
     "metadata": {},
     "output_type": "execute_result"
    }
   ],
   "source": [
    "# is not:与is运算结果完全相反，即两个对象的内容不同，在计算机中的存储地址也不同时采薇True。\n",
    "a is not c"
   ]
  },
  {
   "cell_type": "markdown",
   "metadata": {},
   "source": [
    "## 2.7 数据类型转化\n",
    "\n",
    "Python规定表达式中各项数据的类型必须一致。如果数据类型不一致，那么就要对数据进行类型转换才能计算表达式的值。数据类型转换可分为自动转换和显式转换两种情况。"
   ]
  },
  {
   "cell_type": "markdown",
   "metadata": {},
   "source": [
    "1. 自动转换： \n",
    "\n",
    "如果表达式中出现的数据类型不一致， 那么Python会检查这些数据是否可以转换为该表达式需要的类型。\n",
    "\n",
    "如果可以，那么将原数据类型转换为表达式所需要的类型;如果不可以，那么报告类型错误。这种数据类型转换称为自动转换。"
   ]
  },
  {
   "cell_type": "code",
   "execution_count": 57,
   "metadata": {},
   "outputs": [
    {
     "data": {
      "text/plain": [
       "4.2"
      ]
     },
     "execution_count": 57,
     "metadata": {},
     "output_type": "execute_result"
    }
   ],
   "source": [
    "1.2+3"
   ]
  },
  {
   "cell_type": "markdown",
   "metadata": {},
   "source": [
    "转换规则为：\n",
    "\n",
    "•\t整型数据可以自动在数据后面加上“.0”转换为浮点型数据。\n",
    "\n",
    "•\t非复数型数据可以自动在数据后面加上“0j”转换为复数型数据。\n"
   ]
  },
  {
   "cell_type": "markdown",
   "metadata": {},
   "source": [
    "2. 显式转换：\n",
    "\n",
    "Python可以将整型数据自动转换为浮点型数据，但不可以将浮点型数据自动转换为整型数据。如果需要将浮点型数据转换为整型数据，那么要使用Python 提供的内置函数进行转换，这种转换称为显式转换。\n",
    "\n",
    "常用转函数：\n",
    "int(),float(),str()等"
   ]
  },
  {
   "cell_type": "code",
   "execution_count": 24,
   "metadata": {},
   "outputs": [
    {
     "data": {
      "text/plain": [
       "'12.99'"
      ]
     },
     "execution_count": 24,
     "metadata": {},
     "output_type": "execute_result"
    }
   ],
   "source": [
    "int(5.6)\n",
    "# complex(1,2.5)\n",
    "float('4.5')\n",
    "int('3')\n",
    "str(12.99)"
   ]
  },
  {
   "cell_type": "markdown",
   "metadata": {},
   "source": [
    "## 2.8 赋值语句\n",
    "\n",
    "赋值语句是将一系列值存放到一系列变量中的运算符，“=”是Python的基本赋值运算符，其格式为：变量名 = 表达式值\n",
    "\n",
    "在基本赋值符“=”前面加上其他运算符，就构成了扩展赋值运算符。例如，“a += 5”等价于\"a=a+5”。\n",
    "\n",
    "扩展运算符：\n",
    "\n",
    "+=\n",
    "\n",
    "-=\n",
    "\n",
    "*=\n",
    "\n",
    "/=\n",
    "\n",
    "//=\n",
    "\n",
    "**="
   ]
  },
  {
   "cell_type": "code",
   "execution_count": 64,
   "metadata": {},
   "outputs": [
    {
     "name": "stdout",
     "output_type": "stream",
     "text": [
      "30\n"
     ]
    }
   ],
   "source": [
    "a=10\n",
    "b=20\n",
    "b+=a   #b=b+a\n",
    "b-=a   #b=b-a\n",
    "b*=a   #b=b*a\n",
    "\n",
    "print(b)"
   ]
  },
  {
   "cell_type": "code",
   "execution_count": 62,
   "metadata": {},
   "outputs": [
    {
     "name": "stdout",
     "output_type": "stream",
     "text": [
      "10\n"
     ]
    }
   ],
   "source": [
    "a=10\n",
    "b=20\n",
    "b-=a\n",
    "print(b)\n"
   ]
  },
  {
   "cell_type": "code",
   "execution_count": 63,
   "metadata": {},
   "outputs": [
    {
     "name": "stdout",
     "output_type": "stream",
     "text": [
      "200\n"
     ]
    }
   ],
   "source": [
    "a=10\n",
    "b=20\n",
    "b*=a\n",
    "print(b)\n"
   ]
  },
  {
   "cell_type": "markdown",
   "metadata": {},
   "source": [
    "### 练一练\n",
    "\n",
    "1. 读取半径和高来计算圆柱体底面面积和体积\n",
    "2. 写出判断⼀个数是否能同时被2和5整除的条件语句, 并且打印对应的结果。\n"
   ]
  },
  {
   "cell_type": "code",
   "execution_count": 26,
   "metadata": {},
   "outputs": [
    {
     "name": "stdin",
     "output_type": "stream",
     "text": [
      "半径 90\n"
     ]
    },
    {
     "data": {
      "text/plain": [
       "int"
      ]
     },
     "execution_count": 26,
     "metadata": {},
     "output_type": "execute_result"
    }
   ],
   "source": [
    "a=input('半径')\n",
    "type(int(a))\n",
    "print('面积：%f' % )"
   ]
  },
  {
   "cell_type": "code",
   "execution_count": null,
   "metadata": {},
   "outputs": [],
   "source": []
  }
 ],
 "metadata": {
  "kernelspec": {
   "display_name": "Python 3",
   "language": "python",
   "name": "python3"
  },
  "language_info": {
   "codemirror_mode": {
    "name": "ipython",
    "version": 3
   },
   "file_extension": ".py",
   "mimetype": "text/x-python",
   "name": "python",
   "nbconvert_exporter": "python",
   "pygments_lexer": "ipython3",
   "version": "3.8.3"
  }
 },
 "nbformat": 4,
 "nbformat_minor": 4
}
