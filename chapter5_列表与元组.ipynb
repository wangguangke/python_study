{
 "cells": [
  {
   "cell_type": "markdown",
   "metadata": {},
   "source": [
    " # 5 列表和元组"
   ]
  },
  {
   "cell_type": "markdown",
   "metadata": {},
   "source": [
    "## 5.1 认识列表"
   ]
  },
  {
   "cell_type": "markdown",
   "metadata": {},
   "source": [
    "### 列表是什么？？\n",
    "\n",
    "列表是由一系列按照特定顺序排列的元素组成的。可以创建包含字母表中所有字母、数字0-9或者所有家庭成员姓名的列表；也可以将任何东西加入到列表中，其中元素之间可以没有任何关系。 \n",
    "\n",
    "列表通常包含多个元素"
   ]
  },
  {
   "cell_type": "markdown",
   "metadata": {},
   "source": [
    "## 5.1.1 构造列表\n",
    "\n",
    "Python中有两种创建列表的方法：描述法和函数构造法\n",
    "\n",
    "1. 描述法，用方括号[ ]来表示列表，并用逗号来分隔其中的元素。"
   ]
  },
  {
   "cell_type": "code",
   "execution_count": 2,
   "metadata": {},
   "outputs": [
    {
     "name": "stdout",
     "output_type": "stream",
     "text": [
      "初始列表：\n",
      "['Alice', 'Bob', 'Charlie', 'David']\n"
     ]
    }
   ],
   "source": [
    "[] #创建空列表\n",
    "[1,2,3] #元素类型为整数的列表\n",
    "persons = ['Alice', 'Bob', 'Charlie', 'David'] # 包含4个元素的列表。\n",
    "# 注：列表中的元素不一定是同一类型，这样也可以：person=['Alice', 24, 80.5]\n",
    "print('初始列表：')\n",
    "print(persons)"
   ]
  },
  {
   "cell_type": "code",
   "execution_count": 3,
   "metadata": {},
   "outputs": [
    {
     "data": {
      "text/plain": [
       "['张三', 24, 98.8]"
      ]
     },
     "execution_count": 3,
     "metadata": {},
     "output_type": "execute_result"
    }
   ],
   "source": [
    "# 列表中的元素类型可以是混合型\n",
    "['张三',24,98.8]"
   ]
  },
  {
   "cell_type": "markdown",
   "metadata": {},
   "source": [
    "2. 函数构造法：使用list()函数创建，它可以将其它数据类型转换为列表类型"
   ]
  },
  {
   "cell_type": "code",
   "execution_count": 2,
   "metadata": {},
   "outputs": [
    {
     "name": "stdout",
     "output_type": "stream",
     "text": [
      "[1, 2, 3, 4, 5, 6, 7, 8, 9]\n"
     ]
    }
   ],
   "source": [
    "list() #定义空列表\n",
    "list('hello world') # 将字符串转化成列表\n",
    "\n",
    "# 将区间转化为列表：\n",
    "num_list = list(range(1,10))\n",
    "print(num_list)"
   ]
  },
  {
   "cell_type": "markdown",
   "metadata": {},
   "source": [
    " 注意：可以构造嵌套的列表，即列表中的元素仍然为列表，这样的话可以构造二维矩阵，或者三维、四维矩阵。\n",
    " "
   ]
  },
  {
   "cell_type": "code",
   "execution_count": 4,
   "metadata": {},
   "outputs": [],
   "source": [
    "m=[[1,2,3],[4,5,6]]"
   ]
  },
  {
   "cell_type": "markdown",
   "metadata": {},
   "source": [
    "### 5.1.2 查看列表长度\n",
    "\n",
    "    对列表操作时通常需要获得列表中元素的个数。Python中可以使用len()函数查看列表长度，该函数返回的值一个整数数值。"
   ]
  },
  {
   "cell_type": "code",
   "execution_count": 2,
   "metadata": {},
   "outputs": [
    {
     "name": "stdout",
     "output_type": "stream",
     "text": [
      "3\n"
     ]
    }
   ],
   "source": [
    "list1 = [123, 456, 'abc']\n",
    "print(len(list1))"
   ]
  },
  {
   "cell_type": "code",
   "execution_count": 5,
   "metadata": {},
   "outputs": [
    {
     "data": {
      "text/plain": [
       "2"
      ]
     },
     "execution_count": 5,
     "metadata": {},
     "output_type": "execute_result"
    }
   ],
   "source": [
    "len(m)"
   ]
  },
  {
   "attachments": {
    "e13a5295-aff4-437c-ae8e-0d3e74e0e633.png": {
     "image/png": "[encoded data removed]"
    }
   },
   "cell_type": "markdown",
   "metadata": {},
   "source": [
    "### 5.1.3 访问列表\n",
    "\n",
    "\n",
    "与字符串类似，列表也是一个有序的集合。因此，要访问列表中的任何元素，只需将该元素的位置或索引告诉Python即可。要访问列表元素，可指定列表的名称，再指出元素的索引，并将其放在方括号内，格式为：list[index]。\n",
    "\n",
    "注意：索引从0开始而不是从1开始\n",
    "\n",
    "访问列表：指出列表的名称，再给出元素的索引，将索引放在方括号中\n",
    "\n",
    "假定列表['physics', 'chemistry', 1997, 2000]保存在名为spam的变量中。spam[0]得到的值为‘physics’,spam[1]得到的值为‘chemistry’，以此类推\n",
    "\n",
    "![image.png](attachment:e13a5295-aff4-437c-ae8e-0d3e74e0e633.png)"
   ]
  },
  {
   "cell_type": "code",
   "execution_count": 16,
   "metadata": {},
   "outputs": [
    {
     "name": "stdout",
     "output_type": "stream",
     "text": [
      "第一个元素：\n",
      "Alice\n",
      "David\n",
      "倒数第一个元素：\n",
      "David\n",
      "Bob\n"
     ]
    }
   ],
   "source": [
    "persons = ['Alice', 'Bob', 'Charlie', 'David'] \n",
    "#第一个元素\n",
    "print('第一个元素：')\n",
    "print(persons[0])\n",
    "\n",
    "#第3个元素\n",
    "print(persons[3])\n",
    "\n",
    "# 倒数第一个。\n",
    "print('倒数第一个元素：')\n",
    "print(persons[-1])\n",
    "\n",
    "print(persons[-3])"
   ]
  },
  {
   "cell_type": "code",
   "execution_count": 17,
   "metadata": {},
   "outputs": [
    {
     "name": "stdout",
     "output_type": "stream",
     "text": [
      "我朋友是 Bob.\n"
     ]
    }
   ],
   "source": [
    "#也可以像使用其它变量一样使用列表中的各个值\n",
    "message = '我朋友是 ' + persons[1] + '.'\n",
    "#str(100)\n",
    "print(message)"
   ]
  },
  {
   "cell_type": "code",
   "execution_count": 4,
   "metadata": {},
   "outputs": [
    {
     "name": "stdout",
     "output_type": "stream",
     "text": [
      "我的朋友是Alice.\n"
     ]
    }
   ],
   "source": [
    "#还可以利用f字符串根据列表中的值创建消息\n",
    "message=f\"我的朋友是{persons[0].title()}.\"\n",
    "print(message)"
   ]
  },
  {
   "cell_type": "markdown",
   "metadata": {},
   "source": [
    "### 动手练习\n",
    "\n",
    "创建自己的列表：想想你喜欢的通勤方式，例如骑摩托车、开汽车、坐地铁、乘公交等，并创建一个包含多种通勤方式的列表。然后根据该列表打印一系列有关这些通勤方式的宣言，例如：我希望拥有一个汽车。"
   ]
  },
  {
   "cell_type": "code",
   "execution_count": 9,
   "metadata": {},
   "outputs": [
    {
     "name": "stdout",
     "output_type": "stream",
     "text": [
      "I want have a : 摩托车\n",
      "I want have a : 汽车\n",
      "I want have a : 地铁\n"
     ]
    }
   ],
   "source": [
    "s=['摩托车','汽车','地铁']\n",
    "for i in s:\n",
    "    print('I want have a :',i)"
   ]
  },
  {
   "cell_type": "markdown",
   "metadata": {},
   "source": [
    "## 5.2 修改、添加、删除元素\n",
    "\n",
    "创建的大多数列表将是动态的，这意味着列表创建后是可以修改的，比如增删元素。"
   ]
  },
  {
   "cell_type": "markdown",
   "metadata": {},
   "source": [
    "### 5.2.1. 向列表中添加元素 \n",
    "\n",
    "要在列表中添加新的元素，可以使用三种方法，即：append()函数、insert()函数和extend()函数。"
   ]
  },
  {
   "cell_type": "markdown",
   "metadata": {},
   "source": [
    "1. append()函数。向列表中添加新元素的最简单的方法是将元素附加在列表的末尾，可以用append()函数可以实现1. 1.\tappend()函数。向列表中添加新元素的最简单的方法是将元素附加在列表的末尾，可以用append()函数可以实现"
   ]
  },
  {
   "cell_type": "code",
   "execution_count": 12,
   "metadata": {},
   "outputs": [
    {
     "name": "stdout",
     "output_type": "stream",
     "text": [
      "['Python', 'C++', 'Java', 'Ruby', ['Ruby', 'SQL']]\n"
     ]
    }
   ],
   "source": [
    "# 在列表末尾添加元素\n",
    "list1 = ['Python', 'C++', 'Java']\n",
    "list1.append('Ruby')\n",
    "list1.append(['Ruby', 'SQL']) # 追加列表，整个列表也被当成一个元素\n",
    "print(list1)"
   ]
  },
  {
   "cell_type": "code",
   "execution_count": 14,
   "metadata": {},
   "outputs": [
    {
     "name": "stdout",
     "output_type": "stream",
     "text": [
      "['Python', 'C++', 'Java']\n"
     ]
    }
   ],
   "source": [
    "# 可以使用append()方法动态创建列表。\n",
    "# list1=[]\n",
    "list1=list()\n",
    "list1.append('Python')\n",
    "list1.append('C++')\n",
    "list1.append('Java')\n",
    "print(list1)\n"
   ]
  },
  {
   "cell_type": "code",
   "execution_count": 15,
   "metadata": {},
   "outputs": [
    {
     "name": "stdout",
     "output_type": "stream",
     "text": [
      "[1, 2, 3, 4, 5, 6, 7, 8, 9]\n"
     ]
    }
   ],
   "source": [
    "li=[]\n",
    "for i in range(1,10):\n",
    "    li.append(i)\n",
    "print(li)"
   ]
  },
  {
   "cell_type": "markdown",
   "metadata": {},
   "source": [
    "2.\tinsert()方法。使用insert()方法可以在列表的任何位置添加新元素，为此需要为insert指定新元素的索引和值，语法结构为list.insert(index,item)，第一个参数为索引位置，第二个参数为要插入的值，表示在原列表的index之前插入元素"
   ]
  },
  {
   "cell_type": "code",
   "execution_count": 6,
   "metadata": {},
   "outputs": [
    {
     "name": "stdout",
     "output_type": "stream",
     "text": [
      "['Python', ['Ruby', 'SQL'], 'C++', 'Java']\n"
     ]
    }
   ],
   "source": [
    "# 要在第index为1的位置之前插入新元素\n",
    "list2 = ['Python', 'C++', 'Java']\n",
    "list2.insert(1, ['Ruby', 'SQL']) # 插入列表，整个列表被当成一个元素\n",
    "print(list2)\n"
   ]
  },
  {
   "cell_type": "markdown",
   "metadata": {},
   "source": [
    "3. extend()方法。该方法可以将一个列表的元素合并到当前列表的尾部"
   ]
  },
  {
   "cell_type": "code",
   "execution_count": 7,
   "metadata": {},
   "outputs": [
    {
     "name": "stdout",
     "output_type": "stream",
     "text": [
      "['Python', 'C++', 'Java', 'Ruby', 'SQL']\n"
     ]
    }
   ],
   "source": [
    "list3 = ['Python', 'C++', 'Java']\n",
    "list3.extend(['Ruby', 'SQL']) # 追加列表，列表也被拆分成多个元素\n",
    "print(list3)\n"
   ]
  },
  {
   "cell_type": "markdown",
   "metadata": {},
   "source": [
    "### 5.2.2 从列表中删除元素\n",
    "\n",
    "在 Python 列表中，不但可以增加元素，还可以删除一个或多个元素。删除元素的方法主要分为以下 3 种"
   ]
  },
  {
   "cell_type": "markdown",
   "metadata": {},
   "source": [
    "1.\t使用del语句删除元素。如果知道要删除的元素在列表中的位置，可以使用del语句删除特定的元素。del既不是方法也不是函数，而是一个语句，因为它没有使用函数调用所必须的括号。"
   ]
  },
  {
   "cell_type": "code",
   "execution_count": 8,
   "metadata": {},
   "outputs": [
    {
     "name": "stdout",
     "output_type": "stream",
     "text": [
      "['Python', 'C++', 'Java', 'PHP', 'Ruby', 'MATLAB']\n",
      "['Python', 'C++', 'PHP', 'Ruby', 'MATLAB']\n",
      "['Python', 'C++', 'PHP', 'MATLAB']\n"
     ]
    }
   ],
   "source": [
    "lang = [\"Python\", \"C++\", \"Java\", \"PHP\", \"Ruby\", \"MATLAB\"]\n",
    "print(lang)\n",
    "del lang[2]      # 使用正数索引\n",
    "print(lang)\n",
    "del lang[-2]     # 使用负数索引\n",
    "print(lang)\n"
   ]
  },
  {
   "cell_type": "code",
   "execution_count": 17,
   "metadata": {},
   "outputs": [
    {
     "name": "stdout",
     "output_type": "stream",
     "text": [
      "['Python', 'C++', 'Java', 'PHP', 'Ruby', 'MATLAB']\n",
      "['Python', 'Ruby', 'MATLAB']\n"
     ]
    }
   ],
   "source": [
    "# 可以用del删除连续索引区间内的多个元素\n",
    "lang = [\"Python\", \"C++\", \"Java\", \"PHP\", \"Ruby\", \"MATLAB\"]\n",
    "print(lang)\n",
    "\n",
    "lang[1:4]\n",
    "del lang[1: 4]\n",
    "print(lang)\n"
   ]
  },
  {
   "cell_type": "markdown",
   "metadata": {},
   "source": [
    "2.\t使用pop()方法删除元素。del语句删掉元素后就不存在了。有时候，我们需要将元素从列表中删除后继续使用它的值。"
   ]
  },
  {
   "cell_type": "code",
   "execution_count": 11,
   "metadata": {},
   "outputs": [
    {
     "name": "stdout",
     "output_type": "stream",
     "text": [
      "[40, 36, 89, 2, 36, 100, 7]\n",
      "7\n",
      "[40, 36, 89, 2, 36, 100]\n",
      "[40, 36, 89, 36, 100]\n"
     ]
    }
   ],
   "source": [
    "nums = [40, 36, 89, 2, 36, 100, 7]\n",
    "print(nums)\n",
    "a=nums.pop()\n",
    "print(a)\n",
    "print(nums)\n",
    "nums.pop(3)\n",
    "print(nums)\n"
   ]
  },
  {
   "cell_type": "markdown",
   "metadata": {},
   "source": [
    "3.\t使用remove()方法删除元素。如果我们只知道要删除的元素值，而不知道要删除元素的位置，可以使用remove()。使用方法remove()时，需要传递要删除的元素值。"
   ]
  },
  {
   "cell_type": "code",
   "execution_count": 20,
   "metadata": {},
   "outputs": [
    {
     "name": "stdout",
     "output_type": "stream",
     "text": [
      "[40, 89, 2, 36, 100, 7]\n",
      "[40, 89, 2, 100, 7]\n"
     ]
    }
   ],
   "source": [
    "nums = [40, 36, 89, 2, 36, 100, 7]\n",
    "nums.remove(36)\n",
    "print(nums)\n",
    "nums.remove(36)\n",
    "print(nums)\n"
   ]
  },
  {
   "cell_type": "markdown",
   "metadata": {},
   "source": [
    "4.\t使用clear()方法。该方法主要用于删除列表中的所有元素"
   ]
  },
  {
   "cell_type": "code",
   "execution_count": 13,
   "metadata": {},
   "outputs": [
    {
     "name": "stdout",
     "output_type": "stream",
     "text": [
      "['h', 't', 't', 'p', 's', ':', '/', '/', 'w', 'w', 'w', '.', 'p', 'y', 't', 'h', 'o', 'n', '.', 'o', 'r', 'g']\n",
      "[]\n"
     ]
    }
   ],
   "source": [
    "url = list(\"https://www.python.org\")\n",
    "print(url)\n",
    "url.clear()\n",
    "print(url)\n"
   ]
  },
  {
   "cell_type": "markdown",
   "metadata": {},
   "source": [
    "### 5.2.3. 修改列表元素\n",
    "\n",
    "当我们想要对列表中的一些元素进行修改时，不用重新创建一个列表，可以直接在原来的列表上进行操作。可以修改单个元素，也可以修改一组元素。"
   ]
  },
  {
   "cell_type": "markdown",
   "metadata": {},
   "source": [
    "1. 修改单个元素：直接对元素赋值即可，语法结构为list[index]=new"
   ]
  },
  {
   "cell_type": "code",
   "execution_count": 14,
   "metadata": {},
   "outputs": [
    {
     "name": "stdout",
     "output_type": "stream",
     "text": [
      "修改前: [40, 36, 89, 2, 36, 100, 7]\n",
      "修改后: [40, 36, -26, 2, -66.2, 100, 7]\n"
     ]
    }
   ],
   "source": [
    "# 修改列表元素\n",
    "# 替换元素。替换列表元素的语法与访问列表元素的语法类似。要修改列表元素，可指定列表名和要修改的元素的索引，再指定该元素的新值。\n",
    "nums = [40, 36, 89, 2, 36, 100, 7]\n",
    "print('修改前:',nums)\n",
    "nums[2]=-26\n",
    "nums[-3]=-66.2\n",
    "print('修改后:',nums)\n"
   ]
  },
  {
   "cell_type": "markdown",
   "metadata": {},
   "source": [
    "2.\t修改一组元素。Python 支持通过切片语法给一组元素赋值。在进行这种操作时，如果不指定步长（step 参数），Python 就不要求新赋值的元素个数与原来的元素个数相同；这意味着该操作既可以为列表添加元素，也可以为列表删除元素。"
   ]
  },
  {
   "cell_type": "code",
   "execution_count": 15,
   "metadata": {},
   "outputs": [
    {
     "name": "stdout",
     "output_type": "stream",
     "text": [
      "修改前: [40, 36, 89, 2, 36, 100, 7]\n",
      "修改后: [40, 45.25, -77, -52.5, 36, 100, 7]\n"
     ]
    }
   ],
   "source": [
    "nums = [40, 36, 89, 2, 36, 100, 7]\n",
    "print('修改前:',nums)\n",
    "nums[1:4]=[45.25,-77,-52.5]\n",
    "print('修改后:',nums)\n"
   ]
  },
  {
   "cell_type": "markdown",
   "metadata": {},
   "source": [
    "在使用切片语法赋值时，Python不支持单个值，比如这种写法：num[4:4]=-77是错误的"
   ]
  },
  {
   "cell_type": "markdown",
   "metadata": {},
   "source": [
    "但是如果使用字符串赋值，Python 会自动把字符串转换成序列，其中的每个字符都是一个元素"
   ]
  },
  {
   "cell_type": "code",
   "execution_count": 22,
   "metadata": {},
   "outputs": [
    {
     "name": "stdout",
     "output_type": "stream",
     "text": [
      "修改前: ['H', 'e', 'l', 'l', 'o']\n",
      "修改后: ['H', 'e', 'X', 'Y', 'o']\n"
     ]
    }
   ],
   "source": [
    "s=list('Hello')\n",
    "print('修改前:',s)\n",
    "s[2:4]='XY'\n",
    "print('修改后:',s)\n"
   ]
  },
  {
   "cell_type": "markdown",
   "metadata": {},
   "source": [
    "此外，使用切片语法时也可以指定步长（step 参数），但这个时候就要求所赋值的新元素的个数与原有元素的个数相同"
   ]
  },
  {
   "cell_type": "code",
   "execution_count": 18,
   "metadata": {},
   "outputs": [
    {
     "name": "stdout",
     "output_type": "stream",
     "text": [
      "修改前: [40, 36, 89, 2, 36, 100, 7]\n",
      "修改后: [40, 0.025, 89, -99, 36, 20.5, 7]\n"
     ]
    }
   ],
   "source": [
    "nums = [40, 36, 89, 2, 36, 100, 7]\n",
    "print('修改前:',nums)\n",
    "nums[1:6:2]=[0.025,-99,20.5]\n",
    "print('修改后:',nums)\n"
   ]
  },
  {
   "cell_type": "markdown",
   "metadata": {},
   "source": [
    "### 动手练习\n",
    "创建自己的列表：想想你喜欢的通勤方式，例如骑摩托车、开汽车、坐地铁、乘公交等，并创建一个包含多种通勤方式的列表。然后根据该列表打印一系列有关这些通勤方式的宣言，例如：我希望拥有一个汽车。\n",
    "\n",
    "在上面的这个例子上添加交通方式、修改交通方式、删除交通方式 "
   ]
  },
  {
   "cell_type": "markdown",
   "metadata": {},
   "source": [
    "## 5.3 组织列表\n",
    "\n",
    "创建的列表中，元素的排序通常是无法预测的。在创建列表时，元素的排列顺序经常是无法预测的，程序没有办法控制用户提供数据的顺序。然而，在实际应用中经常会按照特定的顺序呈现列表信息，因此就需要对列表进行重新组织。主要包括排序、反转和复制"
   ]
  },
  {
   "cell_type": "markdown",
   "metadata": {},
   "source": [
    "### 5.3.1 列表排序\n",
    "\n",
    "列表的排序可以使用Python内置的方法sort()和sorted()函数。如果要对列表进行永久性排序，即不在恢复到原来的排列顺序的话，可以使用sort()方法。如果仅仅是对列表进行临夏市行排序，不影响原始列表的排列顺序，可以使用sorted()函数。\n",
    "\n",
    "1. 使用sort()方法对列表永久排序：Python中，包含数值的列表或字符串的列表都可以使用sort()方法排序。使用方法为list.sort()"
   ]
  },
  {
   "cell_type": "code",
   "execution_count": 24,
   "metadata": {},
   "outputs": [
    {
     "name": "stdout",
     "output_type": "stream",
     "text": [
      "['Charlie', 'Bob', 'Alice', 'David']\n",
      "['Alice', 'Bob', 'Charlie', 'David']\n"
     ]
    }
   ],
   "source": [
    "# 1. 使用sort()方法对列表永久排序：\n",
    "persons = ['Charlie', 'Bob', 'Alice', 'David'] \n",
    "print(persons)\n",
    "# 永久排序，原列表被修改。\n",
    "persons.sort()\n",
    "print(persons)\n"
   ]
  },
  {
   "cell_type": "markdown",
   "metadata": {},
   "source": [
    "关于sort()方法的使用，还需要注意以下几点：\n",
    "\n",
    "•\tsort()方法就地对列表排序，不需要写出list=list.sort()这样的代码，即没有记录返回值，不需要对返回结果重新赋值。\n",
    "\n",
    "•\t不能对既有数字又有字符串的列表排序，因为Python不知道如何比较他们，例如：\n"
   ]
  },
  {
   "cell_type": "code",
   "execution_count": 1,
   "metadata": {},
   "outputs": [
    {
     "ename": "TypeError",
     "evalue": "'<' not supported between instances of 'str' and 'int'",
     "output_type": "error",
     "traceback": [
      "\u001b[0;31m---------------------------------------------------------------------------\u001b[0m",
      "\u001b[0;31mTypeError\u001b[0m                                 Traceback (most recent call last)",
      "\u001b[0;32m<ipython-input-1-8e52586738af>\u001b[0m in \u001b[0;36m<module>\u001b[0;34m\u001b[0m\n\u001b[1;32m      1\u001b[0m \u001b[0malist\u001b[0m\u001b[0;34m=\u001b[0m\u001b[0;34m[\u001b[0m\u001b[0;36m1\u001b[0m\u001b[0;34m,\u001b[0m\u001b[0;36m2\u001b[0m\u001b[0;34m,\u001b[0m\u001b[0;36m3\u001b[0m\u001b[0;34m,\u001b[0m\u001b[0;34m'alice'\u001b[0m\u001b[0;34m,\u001b[0m\u001b[0;34m'bob'\u001b[0m\u001b[0;34m]\u001b[0m\u001b[0;34m\u001b[0m\u001b[0;34m\u001b[0m\u001b[0m\n\u001b[0;32m----> 2\u001b[0;31m \u001b[0malist\u001b[0m\u001b[0;34m.\u001b[0m\u001b[0msort\u001b[0m\u001b[0;34m(\u001b[0m\u001b[0;34m)\u001b[0m\u001b[0;34m\u001b[0m\u001b[0;34m\u001b[0m\u001b[0m\n\u001b[0m",
      "\u001b[0;31mTypeError\u001b[0m: '<' not supported between instances of 'str' and 'int'"
     ]
    }
   ],
   "source": [
    "alist=[1,2,3,'alice','bob']\n",
    "alist.sort()\n"
   ]
  },
  {
   "cell_type": "markdown",
   "metadata": {},
   "source": [
    "•\tsort()方法对字符串排序时，使用“ASCII字符顺序”，而不是实际的字典顺序，这意味着大写字母排在小写字母前面。例如："
   ]
  },
  {
   "cell_type": "code",
   "execution_count": 2,
   "metadata": {},
   "outputs": [
    {
     "name": "stdout",
     "output_type": "stream",
     "text": [
      "排序前 ['alice', 'Ants', 'bob', 'Badgers']\n",
      "排序后 ['Ants', 'Badgers', 'alice', 'bob']\n"
     ]
    }
   ],
   "source": [
    "aList=['alice','Ants','bob','Badgers']\n",
    "print('排序前',aList)\n",
    "aList.sort()\n",
    "print('排序后',aList)\n"
   ]
  },
  {
   "cell_type": "markdown",
   "metadata": {},
   "source": [
    "如果要按照普通的字典顺序来排列，就需要在调用sort()方法时，传递关键字参数key，将其设置为str.lower。例如："
   ]
  },
  {
   "cell_type": "code",
   "execution_count": 3,
   "metadata": {},
   "outputs": [
    {
     "name": "stdout",
     "output_type": "stream",
     "text": [
      "排序前 ['alice', 'Ants', 'bob', 'Badgers']\n",
      "排序后 ['alice', 'Ants', 'Badgers', 'bob']\n"
     ]
    }
   ],
   "source": [
    "aList=['alice','Ants','bob','Badgers']\n",
    "print('排序前',aList)\n",
    "aList.sort(key=str.lower)\n",
    "print('排序后',aList)\n"
   ]
  },
  {
   "cell_type": "code",
   "execution_count": 25,
   "metadata": {},
   "outputs": [
    {
     "name": "stdout",
     "output_type": "stream",
     "text": [
      "['David', 'Charlie', 'Bob', 'Alice']\n"
     ]
    }
   ],
   "source": [
    "#按照与字母顺序相反的顺序排列，向sort()传递参数reverse=True\n",
    "persons.sort(reverse=True)\n",
    "print(persons)"
   ]
  },
  {
   "cell_type": "markdown",
   "metadata": {},
   "source": [
    "2.\t使用sorted()对列表临时性排序。要保留列表原来的排列顺序，同时以特定的顺序呈现他们，可以使用函数sorted()，该函数可以按照特定顺序显示列表元素，同时不影响他们在列表中的原始排列顺序。用法是sorted(list)，将待排序的列表作为参数传递给sorted()函数。"
   ]
  },
  {
   "cell_type": "code",
   "execution_count": 4,
   "metadata": {},
   "outputs": [
    {
     "name": "stdout",
     "output_type": "stream",
     "text": [
      "['Alice', 'Bob', 'Charlie', 'David']\n"
     ]
    }
   ],
   "source": [
    "# 临时排序，原列表不变，返回一个排序后的新列表。\n",
    "persons = ['Charlie', 'Bob', 'Alice', 'David']\n",
    "sorted_persons = sorted(persons)\n",
    "print(sorted_persons)"
   ]
  },
  {
   "cell_type": "code",
   "execution_count": 28,
   "metadata": {},
   "outputs": [
    {
     "name": "stdout",
     "output_type": "stream",
     "text": [
      "['Charlie', 'Bob', 'Alice', 'David']\n"
     ]
    }
   ],
   "source": [
    "print(persons)"
   ]
  },
  {
   "cell_type": "markdown",
   "metadata": {},
   "source": [
    "### 5.3.2 列表反转\n",
    "\n",
    "要对列表进行反转操作，可以使用方法reverse()。reverse()不是按与字母顺序相反的顺序排列列表元素，而只是反转列表元素的排列顺序。"
   ]
  },
  {
   "cell_type": "code",
   "execution_count": 5,
   "metadata": {},
   "outputs": [
    {
     "name": "stdout",
     "output_type": "stream",
     "text": [
      "['Facebook', 'Taobao', 'Runoob', 'Google', '123']\n"
     ]
    }
   ],
   "source": [
    "#倒着打印列表：\n",
    "aList = ['123', 'Google', 'Runoob', 'Taobao', 'Facebook']\n",
    "aList.reverse()\n",
    "print(aList)"
   ]
  },
  {
   "cell_type": "markdown",
   "metadata": {},
   "source": [
    "#### 动手练习\n",
    "\n",
    "1. 编写程序，生成一个包含20个随机整数的列表，然后对其中偶数下标的元素进行降序排列，奇数下标的元素不变。 \n",
    "2. 编写程序，生成包含20个随机数的列表，然后将前10个元素升序排列，后10个元素降序排列，并输出结果。："
   ]
  },
  {
   "cell_type": "code",
   "execution_count": 32,
   "metadata": {},
   "outputs": [
    {
     "name": "stdout",
     "output_type": "stream",
     "text": [
      "[63, 5, 21, 81, 52, 83, 55, 4, 3, 51, 87, 21, 87, 19, 31, 24, 33, 71, 54, 32]\n",
      "[87, 5, 87, 81, 63, 83, 55, 4, 54, 51, 52, 21, 33, 19, 31, 24, 21, 71, 3, 32]\n"
     ]
    }
   ],
   "source": [
    "import random\n",
    "li=[]\n",
    "for i in range(0,20):\n",
    "    li.append(random.randint(0,100))\n",
    "print(li)\n",
    "#偶数下标：0 2 4 6 8...20\n",
    "y=li[::2]\n",
    "y.sort(reverse=True)\n",
    "li[::2]=y\n",
    "print(li)"
   ]
  },
  {
   "cell_type": "code",
   "execution_count": 34,
   "metadata": {},
   "outputs": [
    {
     "name": "stdout",
     "output_type": "stream",
     "text": [
      "[79, 46, 23, 100, 66, 7, 81, 48, 9, 73, 68, 100, 64, 39, 25, 97, 37, 69, 5, 0]\n",
      "[7, 9, 23, 46, 48, 66, 73, 79, 81, 100, 68, 100, 64, 39, 25, 97, 37, 69, 5, 0]\n",
      "[7, 9, 23, 46, 48, 66, 73, 79, 81, 100, 100, 97, 69, 68, 64, 39, 37, 25, 5, 0]\n"
     ]
    }
   ],
   "source": [
    "import random\n",
    "li=[]\n",
    "for i in range(0,20):\n",
    "    li.append(random.randint(0,100))\n",
    "print(li)\n",
    "y=li[0:10]\n",
    "y.sort()\n",
    "li[0:10]=y\n",
    "print(li)\n",
    "y=li[10:20]\n",
    "y.sort(reverse=True)\n",
    "li[10:20]=y\n",
    "print(li)"
   ]
  },
  {
   "cell_type": "code",
   "execution_count": 7,
   "metadata": {},
   "outputs": [
    {
     "name": "stdout",
     "output_type": "stream",
     "text": [
      "[84, 73, 27, 84, 9, 56, 52, 62, 27, 83, 25, 22, 7, 59, 39, 72, 36, 89, 45, 80]\n",
      "[84, 73, 52, 84, 45, 56, 39, 62, 36, 83, 27, 22, 27, 59, 25, 72, 9, 89, 7, 80]\n"
     ]
    }
   ],
   "source": [
    "#第1题\n",
    "import random\n",
    "x = [random.randint(0,100) for i in range(20)]\n",
    "print(x)\n",
    "y = x[::2]\n",
    "y.sort(reverse=True)\n",
    "x[::2] = y\n",
    "print(x)\n"
   ]
  },
  {
   "cell_type": "code",
   "execution_count": 8,
   "metadata": {},
   "outputs": [
    {
     "name": "stdout",
     "output_type": "stream",
     "text": [
      "[19, 18, 9, 38, 23, 67, 9, 99, 64, 23, 3, 22, 59, 90, 80, 32, 27, 83, 14, 16]\n",
      "[9, 9, 18, 19, 23, 23, 38, 64, 67, 99, 90, 83, 80, 59, 32, 27, 22, 16, 14, 3]\n"
     ]
    }
   ],
   "source": [
    "# 第2题\n",
    "import random\n",
    "x = [random.randint(0,100) for i in range(20)]\n",
    "print(x)\n",
    "y = x[0:10]\n",
    "y.sort()\n",
    "x[0:10] = y\n",
    "y = x[10:20]\n",
    "y.sort(reverse=True)\n",
    "x[10:20] = y\n",
    "print(x)\n"
   ]
  },
  {
   "cell_type": "markdown",
   "metadata": {},
   "source": [
    "### 5.4.3 列表的复制：浅复制与深复制\n",
    "\n",
    "在Python中，经常要对一个列表进行复制。对于复制，自然的就有深复制与浅复制问题。区分深复制与浅复制的依据，当从原本的列表复制出的新列表后，修改其中的任意一个元素是否会对另一个造成影响，即这两个list在内存中是否储存在同一个区域。"
   ]
  },
  {
   "cell_type": "code",
   "execution_count": 36,
   "metadata": {},
   "outputs": [
    {
     "name": "stdout",
     "output_type": "stream",
     "text": [
      "[-1, [22, 2, 3], 4, 5]\n",
      "[-1, [22, 2, 3], 4, 5]\n"
     ]
    }
   ],
   "source": [
    "old=[1,[1,2,3],4,5]\n",
    "new=old\n",
    "new[0]=-1\n",
    "new[1][0]=22\n",
    "print(new)\n",
    "print(old)"
   ]
  },
  {
   "cell_type": "markdown",
   "metadata": {},
   "source": [
    "1. 列表的浅复制，可以使用for循环、列表生成、切片和copy()方法这几种。\n",
    "\n",
    "•\tfor循环复制列表，可以使用for循环和列表添加操作（append）协助完成列表的复制，例如："
   ]
  },
  {
   "cell_type": "code",
   "execution_count": 39,
   "metadata": {},
   "outputs": [
    {
     "name": "stdout",
     "output_type": "stream",
     "text": [
      "[1, [1, 2, 3], 3]\n",
      "[-1, [22, 2, 3], 3]\n",
      "[1, [22, 2, 3], 3]\n"
     ]
    }
   ],
   "source": [
    "old=[1,[1,2,3],3]\n",
    "new=[]\n",
    "for item in old:\n",
    "    new.append(item)\n",
    "print(new)\n",
    "new[0]=-1\n",
    "new[1][0]=22\n",
    "print(new)\n",
    "print(old)"
   ]
  },
  {
   "cell_type": "markdown",
   "metadata": {},
   "source": [
    "•\t列表生成方法，可以使用列表解析功能通过创建新列表的方式对列表进行复制,例如："
   ]
  },
  {
   "cell_type": "code",
   "execution_count": 12,
   "metadata": {},
   "outputs": [],
   "source": [
    "old=[1,[1,2,3],3]\n",
    "new=[i for i in old]\n"
   ]
  },
  {
   "cell_type": "markdown",
   "metadata": {},
   "source": [
    "•\t切片方式，可以利用索引，使用切片方式复制列表"
   ]
  },
  {
   "cell_type": "code",
   "execution_count": 41,
   "metadata": {},
   "outputs": [
    {
     "name": "stdout",
     "output_type": "stream",
     "text": [
      "[-1, [22, 2, 3], 3]\n",
      "[1, [22, 2, 3], 3]\n"
     ]
    }
   ],
   "source": [
    "old=[1,[1,2,3],3]\n",
    "new=old[:]\n",
    "new[0]=-1\n",
    "new[1][0]=22\n",
    "print(new)\n",
    "print(old)"
   ]
  },
  {
   "cell_type": "markdown",
   "metadata": {},
   "source": [
    "•\t使用copy方法，语法结构为list.copy()"
   ]
  },
  {
   "cell_type": "code",
   "execution_count": 42,
   "metadata": {},
   "outputs": [
    {
     "name": "stdout",
     "output_type": "stream",
     "text": [
      "[-1, [22, 2, 3], 3]\n",
      "[1, [22, 2, 3], 3]\n"
     ]
    }
   ],
   "source": [
    "old=[1,[1,2,3],3]\n",
    "new=old.copy()\n",
    "new[0]=-1\n",
    "new[1][0]=22\n",
    "print(new)\n",
    "print(old)"
   ]
  },
  {
   "cell_type": "markdown",
   "metadata": {},
   "source": [
    "注意，这几种方法中，尽管列表old和new不在同一块内存地址，但old和new内部的列表，即[1,2,3]仍然同一块内存地址，但是两个列表内部非列表元素不是共享的。例如，我们修改下列表old中的值，会发现以下结果：对列表new中第一个元素修改后，并不影响原列表中的第一个元素，即原列表old的第一个值并未发生变化。然而，当修改列表new中的第二个元素[1,2,3]时，原列表中的元素也跟着发生了修改，说明列表中的列表在内存中的地址是共享的。"
   ]
  },
  {
   "cell_type": "code",
   "execution_count": 15,
   "metadata": {},
   "outputs": [
    {
     "name": "stdout",
     "output_type": "stream",
     "text": [
      "[1, [23, 2, 3], 3]\n",
      "[11, [23, 2, 3], 3]\n"
     ]
    }
   ],
   "source": [
    "new[1][0]=23\n",
    "new[0]=11\n",
    "print(old)\n",
    "print(new)\n"
   ]
  },
  {
   "cell_type": "markdown",
   "metadata": {},
   "source": [
    "2.\t深复制，可以使用copy模块中的deepcopy()函数对原先的列表以及其中的子列表连根拔起，完全赋值，进而在后续修改源列表时对拷贝得到的列表并无影响。"
   ]
  },
  {
   "cell_type": "code",
   "execution_count": 43,
   "metadata": {},
   "outputs": [
    {
     "name": "stdout",
     "output_type": "stream",
     "text": [
      "Before:\n",
      "[1, [1, 2, 3], 3]\n",
      "[1, [1, 2, 3], 3]\n",
      "After:\n",
      "[1, [1, 2, 3], 3]\n",
      "[3, [3, 2, 3], 3]\n"
     ]
    }
   ],
   "source": [
    "import copy \n",
    "old = [1,[1,2,3],3]\n",
    "new = copy.deepcopy(old)\n",
    "print('Before:')\n",
    "print(old)\n",
    "print(new)\n",
    "new[0] = 3\n",
    "new[1][0] = 3\n",
    "print('After:')\n",
    "print(old)\n",
    "print(new)\n"
   ]
  },
  {
   "cell_type": "markdown",
   "metadata": {},
   "source": [
    "## 5.4 操作列表"
   ]
  },
  {
   "cell_type": "markdown",
   "metadata": {},
   "source": [
    "### 5.4.1 遍历列表"
   ]
  },
  {
   "cell_type": "markdown",
   "metadata": {},
   "source": [
    "•\t简单的for循环遍历。通过for循环从列表中逐个拿到每个元素，并将其赋给for循环遍历。在循环体内部可以直接使用获取到的元素。这种方法也称为直接遍历法。"
   ]
  },
  {
   "cell_type": "code",
   "execution_count": 2,
   "metadata": {},
   "outputs": [
    {
     "name": "stdout",
     "output_type": "stream",
     "text": [
      "Charlie\n",
      "Bob\n",
      "Alice\n",
      "David\n"
     ]
    }
   ],
   "source": [
    "# 遍历列表：第一种方法：直接遍历列表\n",
    "persons = ['Charlie', 'Bob', 'Alice', 'David'] \n",
    "for p in persons:\n",
    "    print(p)\n",
    "# for语句用于循环，注意for语句最后的：和print之前的缩进。"
   ]
  },
  {
   "cell_type": "markdown",
   "metadata": {},
   "source": [
    "•\t索引遍历。通过获得每个元素的索引号，间接获得列表中的元素。这种方法也称为间接遍历法。最简单的方法是通过range()函数获得索引列表迭代器，通过for循环遍历列表迭代器获得索引号，再根据索引号取得列表中的元素。\n",
    "\n",
    "请注意，range()函数左边能取右边不能取"
   ]
  },
  {
   "cell_type": "code",
   "execution_count": 3,
   "metadata": {},
   "outputs": [
    {
     "name": "stdout",
     "output_type": "stream",
     "text": [
      "Charlie\n",
      "Bob\n",
      "Alice\n",
      "David\n"
     ]
    }
   ],
   "source": [
    "for i in range(len(persons)):\n",
    "    print(persons[i])"
   ]
  },
  {
   "cell_type": "code",
   "execution_count": 4,
   "metadata": {},
   "outputs": [
    {
     "name": "stdout",
     "output_type": "stream",
     "text": [
      "Bob\n",
      "Alice\n"
     ]
    }
   ],
   "source": [
    "\n",
    "for i in range(1, 3): #[0,1,2,3]\n",
    "    print(persons[i])\n",
    "#全部遍历一遍列表，使用range(0,len(list))即可"
   ]
  },
  {
   "cell_type": "code",
   "execution_count": 43,
   "metadata": {},
   "outputs": [
    {
     "name": "stdout",
     "output_type": "stream",
     "text": [
      "你好：Charlie\t###\n",
      "你好：Bob\t###\n",
      "你好：Alice\t###\n",
      "你好：David\t###\n",
      "这些都是我的朋友\n"
     ]
    }
   ],
   "source": [
    "for i in range(0, len(persons)):\n",
    "    #print('朋友'+ str(i+1) + ':')\n",
    "    s=f\"你好：{persons[i]}\\t###\"\n",
    "    print(s)\n",
    "    #print(\"你好：\"+persons[i]+\"###\")\n",
    "print('这些都是我的朋友')"
   ]
  },
  {
   "cell_type": "markdown",
   "metadata": {},
   "source": [
    "除了使用for循环和range()函数外，还可以单纯使用while循环遍历，通过设定循环测试条件：当前索引号是否达到列表的最大索引号，来判断是否执行循环体内的语句块。"
   ]
  },
  {
   "cell_type": "code",
   "execution_count": 17,
   "metadata": {},
   "outputs": [
    {
     "name": "stdout",
     "output_type": "stream",
     "text": [
      "m1\n",
      "1900\n",
      "m2\n",
      "2000\n"
     ]
    }
   ],
   "source": [
    "lists = [\"m1\", 1900, \"m2\", 2000]\n",
    "index = 0\n",
    "while index < len(lists):\n",
    "    print(lists[index])\n",
    "    index = index + 1 #index+=1\n"
   ]
  },
  {
   "cell_type": "markdown",
   "metadata": {},
   "source": [
    "•\t利用迭代器函数iter()。iter()函数用来生成一个迭代器，iter函数的标准用法是iter(object)。在字符串处理上，iter(var)就相当于将字符串遍历var中的值放入一个集合中，然后调用for in循环，遍历这个集合中的元素。"
   ]
  },
  {
   "cell_type": "code",
   "execution_count": 18,
   "metadata": {},
   "outputs": [
    {
     "name": "stdout",
     "output_type": "stream",
     "text": [
      "m1\n",
      "1900\n",
      "m2\n",
      "2000\n"
     ]
    }
   ],
   "source": [
    "lists = [\"m1\", 1900, \"m2\", 2000]\n",
    "for val in iter(lists):\n",
    "    print(val)\n"
   ]
  },
  {
   "cell_type": "markdown",
   "metadata": {},
   "source": [
    "•\t利用迭代器函数enumerate()。enumerate是一个内置的函数，用于在一个可迭代或可遍历的对象(如列表、字符串、数组、字典)中，将对象组成一个一个序列和索引，可以同时获得索引和索引值，即将enumerate作用在列表上将会返回两个值：索引号和对应的元素。"
   ]
  },
  {
   "cell_type": "code",
   "execution_count": 20,
   "metadata": {},
   "outputs": [
    {
     "name": "stdout",
     "output_type": "stream",
     "text": [
      "0 m1\n",
      "1 1900\n",
      "2 m2\n",
      "3 2000\n"
     ]
    }
   ],
   "source": [
    "lists = [\"m1\", 1900, \"m2\", 2000]\n",
    "for i, val in enumerate(lists):\n",
    "    print(i,val)\n"
   ]
  },
  {
   "cell_type": "markdown",
   "metadata": {},
   "source": [
    "### 5.4.2 列表的简单统计计算"
   ]
  },
  {
   "cell_type": "code",
   "execution_count": 27,
   "metadata": {},
   "outputs": [
    {
     "name": "stdout",
     "output_type": "stream",
     "text": [
      "21\n",
      "3.5\n",
      "1\n",
      "6\n"
     ]
    }
   ],
   "source": [
    "numbers = [1,2,3,4,5,6]\n",
    "print(sum(numbers))\n",
    "print(sum(numbers)/len(numbers))\n",
    "print(min(numbers))\n",
    "print(max(numbers))"
   ]
  },
  {
   "cell_type": "markdown",
   "metadata": {},
   "source": [
    "### 5.4.3 列表解析\n",
    "\n",
    "列表解析就是根据已有列表，高效创建新列表的一种方式，在有些教材中也称为“列表推导式”。列表解析是Python迭代机制的一种应用，它常用于实现创建新的列表。列表解析将for循环和创建新元素的代码合并成一行，并自动附加新元素。语法结构如下：\n",
    "\n",
    "•\t[每一个元素或者是和元素相关的操作 for 元素 in 可迭代数据类型]\n",
    "\n",
    "•\t[满足条件的元素相关的操作 for 元素 in 可迭代数据类型 if 元素相关的条件]\n"
   ]
  },
  {
   "cell_type": "code",
   "execution_count": 5,
   "metadata": {},
   "outputs": [
    {
     "name": "stdout",
     "output_type": "stream",
     "text": [
      "[1, 4, 9, 16, 25, 36]\n"
     ]
    }
   ],
   "source": [
    "# [1,4,9,16,25,36]\n",
    "n =  [ value**2 for value in range(1,7)]\n",
    "print(n)\n",
    "\n",
    "# n=[]\n",
    "# numbers=[1,2,3,4,5,6]\n",
    "# for value in numbers:\n",
    "#     n.append(value**2)"
   ]
  },
  {
   "cell_type": "code",
   "execution_count": 29,
   "metadata": {},
   "outputs": [
    {
     "name": "stdout",
     "output_type": "stream",
     "text": [
      "[1, 4, 9, 16, 25, 36]\n"
     ]
    }
   ],
   "source": [
    "# 简单的列表解析\n",
    "#前面介绍的生成列表squares的方式包含三四行代码，而列表解析让你只需编写一行代码就 能生成这样的列表。列表解析将for循环和创建新元素的代码合并成一行，并自动附加新元素。 \n",
    "squares = [value**2 for value in numbers]\n",
    "print(squares)"
   ]
  },
  {
   "cell_type": "code",
   "execution_count": null,
   "metadata": {},
   "outputs": [],
   "source": [
    "# 生成一个包含20个随机整数的列表\n",
    "x = [random.randint(0,100) for i in range(20)]"
   ]
  },
  {
   "cell_type": "code",
   "execution_count": 30,
   "metadata": {},
   "outputs": [
    {
     "data": {
      "text/plain": [
       "[0, 2, 0, 4, 0, 6, 0, 8, 0, 10]"
      ]
     },
     "execution_count": 30,
     "metadata": {},
     "output_type": "execute_result"
    }
   ],
   "source": [
    "# 2）带条件列表解析。\n",
    "#假设我们需要创建一个列表：[0, 2, 0, 4, 0, 6, 0, 8, 0, 10] ，即将奇数置为0，偶数保持原值不变\n",
    "[i+1 if i%2 ==1 else 0 for i in range(10)]"
   ]
  },
  {
   "cell_type": "code",
   "execution_count": 35,
   "metadata": {},
   "outputs": [
    {
     "name": "stdout",
     "output_type": "stream",
     "text": [
      "[0, 2, 0, 4, 0, 6, 0, 8, 0, 10]\n"
     ]
    }
   ],
   "source": [
    "#等价于：\n",
    "l=[]\n",
    "for i in range(10):\n",
    "    if i%2==1:\n",
    "        l.append(i+1)\n",
    "    else:\n",
    "        l.append(0)\n",
    "print(l)\n"
   ]
  },
  {
   "cell_type": "code",
   "execution_count": 32,
   "metadata": {},
   "outputs": [
    {
     "data": {
      "text/plain": [
       "[[1, 1], [1, 2], [1, 3], [2, 1], [2, 2], [2, 3]]"
      ]
     },
     "execution_count": 32,
     "metadata": {},
     "output_type": "execute_result"
    }
   ],
   "source": [
    "# 3）多重循环的列表解析。\n",
    "# Python列表中还支持多重循环解析。\n",
    "#假设我们需要创建一个列表：[[1, 1], [1, 2], [1, 3], [2, 1], [2, 2], [2, 3]]\n",
    "#（可以看成 [1, 2] 和 [1, 2, 3] 的全排列）\n",
    "[[i, j] for i in [1, 2] for j in [1, 2, 3]]"
   ]
  },
  {
   "cell_type": "code",
   "execution_count": 33,
   "metadata": {},
   "outputs": [
    {
     "name": "stdout",
     "output_type": "stream",
     "text": [
      "[[1, 1], [1, 2], [1, 3], [2, 1], [2, 2], [2, 3]]\n"
     ]
    }
   ],
   "source": [
    "# 等价于：\n",
    "l=[]\n",
    "for i in [1,2]:\n",
    "    for j in [1,2,3]:\n",
    "        l.append([i,j])\n",
    "print(l)\n"
   ]
  },
  {
   "cell_type": "code",
   "execution_count": 10,
   "metadata": {},
   "outputs": [
    {
     "data": {
      "text/plain": [
       "[3, 6, 9]"
      ]
     },
     "execution_count": 10,
     "metadata": {},
     "output_type": "execute_result"
    }
   ],
   "source": [
    "L=[[1,2,3],[4,5,6],[7,8,9]] #输出[3,6,9]\n",
    "[a[2] for a in L]"
   ]
  },
  {
   "cell_type": "code",
   "execution_count": 16,
   "metadata": {},
   "outputs": [
    {
     "name": "stdout",
     "output_type": "stream",
     "text": [
      "[9, 10, 12, 14, 16, 26, 32, 36, 44]\n",
      "[9, 10, 12, 14, 16, 26, 32, 36, 44]\n"
     ]
    }
   ],
   "source": [
    "# 4）矩阵降维或者表量化。Python的列表解析还可以用于将嵌套列表转化为非嵌套列表，即对矩阵降维操作\n",
    "\n",
    "L=[[14,26,10],[12,32,16],[36,9,44]] #把列表中的元素，升序排列。\n",
    "#输出：[9，12，14，16,26,32,36,44]\n",
    "l2=[]\n",
    "for a in L:\n",
    "    for x in a:\n",
    "       l2.append(x)\n",
    "l2.sort()\n",
    "print(l2)\n",
    "\n",
    "l3=[x for a in L for x in a]\n",
    "l3.sort()\n",
    "print(l3)"
   ]
  },
  {
   "cell_type": "code",
   "execution_count": 9,
   "metadata": {},
   "outputs": [
    {
     "data": {
      "text/plain": [
       "[14, 12, 36]"
      ]
     },
     "execution_count": 9,
     "metadata": {},
     "output_type": "execute_result"
    }
   ],
   "source": [
    "#[a[0] for a in L]"
   ]
  },
  {
   "cell_type": "markdown",
   "metadata": {},
   "source": [
    "### 5.4.4 列表切片\n",
    "\n",
    " 就像利用索引号可以从列表中取得单个值一样，可以通过“切片”的方法从列表中获取多个值，其结果是一个新的列表。切片是用一对方括号来表示它的起始位置和结束位置，就像索引一样，但是两个整数之间用冒号分割。\n",
    " \n",
    " Python中切片的语法格式为：list[start:end:step]\n",
    " \n",
    " •\tstart：起始索引，从0开始，-1表示结束；\n",
    " \n",
    "•\tend：结束索引；\n",
    "\n",
    "•\tstep：步长，步长为正时表示从左向右取值。步长为负时表示从右向左反向取值；\n"
   ]
  },
  {
   "cell_type": "code",
   "execution_count": 22,
   "metadata": {},
   "outputs": [
    {
     "name": "stdout",
     "output_type": "stream",
     "text": [
      "[1, 2, 3, 4, 5, 6]\n"
     ]
    }
   ],
   "source": [
    "# （1）\t省略全部索引，这是一种快捷用法，代表截取全部内容。\n",
    "lists=[1,2,3,4,5,6] \n",
    "slice1=lists[:]\n",
    "print(slice1)\n"
   ]
  },
  {
   "cell_type": "code",
   "execution_count": 23,
   "metadata": {},
   "outputs": [
    {
     "name": "stdout",
     "output_type": "stream",
     "text": [
      "[1, 2, 3, 4, 5]\n"
     ]
    }
   ],
   "source": [
    "# （2）\t如果不包含最后一个元素，索引可以从位置0开始到-1结束，递增步长为1\n",
    "ists=[1,2,3,4,5,6]\n",
    "slice2=lists[0:-1:1]\n",
    "print(slice2)\n"
   ]
  },
  {
   "cell_type": "code",
   "execution_count": 24,
   "metadata": {},
   "outputs": [
    {
     "name": "stdout",
     "output_type": "stream",
     "text": [
      "[1, 2, 3]\n"
     ]
    }
   ],
   "source": [
    "# （3）\t省略起始位置的索引，以及步长。默认起始位置从头开始，默认步长为1\n",
    "lists=[1,2,3,4,5,6]\n",
    "slice3=lists[:3]\n",
    "print(slice3)\n"
   ]
  },
  {
   "cell_type": "code",
   "execution_count": 25,
   "metadata": {},
   "outputs": [
    {
     "name": "stdout",
     "output_type": "stream",
     "text": [
      "[1, 4]\n"
     ]
    }
   ],
   "source": [
    "# （4）\t间隔切片，列表的切片还可以根据间隔进行跳跃式操作。\n",
    "lists=[1,2,3,4,5,6]\n",
    "slice4=lists[0:5:3]\n",
    "print(slice4)\n"
   ]
  },
  {
   "cell_type": "code",
   "execution_count": 17,
   "metadata": {},
   "outputs": [
    {
     "name": "stdout",
     "output_type": "stream",
     "text": [
      "[6, 4, 2]\n"
     ]
    }
   ],
   "source": [
    "# （5）\t反向切片，Python中还可以根据需要从右向左切片。\n",
    "lists=[1,2,3,4,5,6]\n",
    "slice5=lists[5:0:-2]\n",
    "print(slice5)\n"
   ]
  },
  {
   "cell_type": "code",
   "execution_count": null,
   "metadata": {},
   "outputs": [],
   "source": [
    "# （6）如果要遍历列表的部分元素，可在for循环中使用切片。\n",
    "players = ['charles', 'martina', 'michael', 'florence', 'eli'] \n",
    "print(\"我们班前三名是：\") \n",
    "for player in players[:3]:     \n",
    "    print(player.title()) "
   ]
  },
  {
   "cell_type": "markdown",
   "metadata": {},
   "source": [
    "### 动手练习\n",
    "\n",
    "例子：创建自己的列表：想想你喜欢的通勤方式，例如骑摩托车、开汽车、坐地铁、乘公交等，并创建一个包含多种通勤方式的列表。然后根据该列表打印一系列有关这些通勤方式的宣言，例如：我希望拥有一个汽车。\n",
    "\n",
    "添加几行代码，完成以下任务：\n",
    "1.使用切片打印出列表中的前三个元素；\n",
    "\n",
    "2.使用切片打印出列表中间的三个元素；\n",
    "\n",
    "3.使用切片打印出列表中的末尾三个元素\n"
   ]
  },
  {
   "cell_type": "markdown",
   "metadata": {},
   "source": [
    "## 5.5 元组"
   ]
  },
  {
   "cell_type": "markdown",
   "metadata": {},
   "source": [
    "#### \n",
    "\n",
    "列表非常适合用于存储在程序运行期间可能变化的数据，列表是可以修改的。\n",
    "\n",
    "然而，有时候我们要创建一个不可修改的元素。Python将不能修改的值称为不可变的，而不可变的列表被称为元组。\n",
    "\n",
    "元组和列表（list）的不同之处在于：列表的元素是可以更改的，包括修改元素值，删除和插入元素，所以列表是可变序列；而元组一旦被创建，它的元素就不可更改了，所以元组是不可变序列。\n"
   ]
  },
  {
   "cell_type": "markdown",
   "metadata": {},
   "source": [
    "### 5.5.1 构造元组"
   ]
  },
  {
   "cell_type": "markdown",
   "metadata": {},
   "source": [
    "元组：使用圆括号而非中括号括括起来的，看起来像列表。元组定义好后就可以向访问列表一样访问元组中的元素。\n",
    "\n",
    "与列表类似，元组中的元素可以是整型、浮点型、字符串、列表或元组等类型，也可以是多种混合类型。一般来说，元组的构造有以下几种方法：\n",
    "\n",
    "1. 使用（）直接创建元组，各元素之间用逗号分隔"
   ]
  },
  {
   "cell_type": "code",
   "execution_count": 1,
   "metadata": {},
   "outputs": [],
   "source": [
    "num_1 = (7, 14, 21, 28, 35)\n",
    "num_2=(20.5,100.7)\n",
    "tuple_1 = (\"Python教程\", \"https://www.python.org/\")\n",
    "tuple_3 = (\"python\", 1, [2,'a'], (\"abc\",3.0))\n",
    "tuple_4 =(\"https://www.python.org/\",)\n"
   ]
  },
  {
   "cell_type": "markdown",
   "metadata": {},
   "source": [
    "2. 使用tuple()函数创建元组，用于将其他类型的数据转换成元组。"
   ]
  },
  {
   "cell_type": "code",
   "execution_count": 2,
   "metadata": {},
   "outputs": [
    {
     "name": "stdout",
     "output_type": "stream",
     "text": [
      "('h', 'e', 'l', 'l', 'o')\n"
     ]
    }
   ],
   "source": [
    "tup1 = tuple(\"hello\")\n",
    "print(tup1)"
   ]
  },
  {
   "cell_type": "markdown",
   "metadata": {},
   "source": [
    "### 5.5.2 使用元组\n",
    "\n",
    "Python中，可以像使用列表一样通过索引方式访问元组中的元素；也可以使用切片方式访问元组中的一组元素，得到新的子元组。元组中元素数量通过调用len()函数获得，索引号也是从0开始，最大索引号为len(tuple)-1。"
   ]
  },
  {
   "cell_type": "code",
   "execution_count": 4,
   "metadata": {},
   "outputs": [
    {
     "name": "stdout",
     "output_type": "stream",
     "text": [
      "p\n",
      "o\n",
      "('w', 'w', '.', 'p', 'y', 't', 'h', 'o', 'n')\n",
      "('w', 'p', 'h')\n",
      "('n', '.', 'o', 'r', 'g')\n"
     ]
    }
   ],
   "source": [
    "tuple_call = tuple(\"https://www.python.org/\")\n",
    "# 使用索引访问元组中的某个元素\n",
    "print(tuple_call[3])     # 使用正数索引\n",
    "print(tuple_call[-4])    # 使用负数索引\n",
    "\n",
    "# 使用切片访问元组中的一组元素\n",
    "print(tuple_call[9: 18])    # 使用正数切片\n",
    "print(tuple_call[9: 18: 3])    # 指定步长\n",
    "print(tuple_call[-6: -1])    # 使用负数切片\n"
   ]
  },
  {
   "cell_type": "markdown",
   "metadata": {},
   "source": [
    "也可以像列表一样使用for循环遍历元组中的所有值。"
   ]
  },
  {
   "cell_type": "code",
   "execution_count": 18,
   "metadata": {},
   "outputs": [
    {
     "name": "stdout",
     "output_type": "stream",
     "text": [
      "('h', 't', 't', 'p', 's', ':', '/', '/', 'w', 'w', 'w', '.', 'p', 'y', 't', 'h', 'o', 'n', '.', 'o', 'r', 'g', '/')\n",
      "https://www.python.org/\n"
     ]
    }
   ],
   "source": [
    "tuple_call = tuple(\"https://www.python.org/\")\n",
    "print(tuple_call)\n",
    "s=''\n",
    "for i in tuple_call:\n",
    "    s=s+i\n",
    "print(s)\n"
   ]
  },
  {
   "cell_type": "markdown",
   "metadata": {},
   "source": [
    "### 5.5.2 修改元组\n",
    "\n",
    " 元组是不可变序列，一旦定义好后元组中的元素不能被修改。如果强制修改元组中的元素值，会报错误，"
   ]
  },
  {
   "cell_type": "code",
   "execution_count": 6,
   "metadata": {},
   "outputs": [
    {
     "ename": "TypeError",
     "evalue": "'tuple' object does not support item assignment",
     "output_type": "error",
     "traceback": [
      "\u001b[0;31m---------------------------------------------------------------------------\u001b[0m",
      "\u001b[0;31mTypeError\u001b[0m                                 Traceback (most recent call last)",
      "\u001b[0;32m<ipython-input-6-05598836a560>\u001b[0m in \u001b[0;36m<module>\u001b[0;34m\u001b[0m\n\u001b[1;32m      1\u001b[0m \u001b[0mtup\u001b[0m \u001b[0;34m=\u001b[0m \u001b[0;34m(\u001b[0m\u001b[0;36m100\u001b[0m\u001b[0;34m,\u001b[0m \u001b[0;36m0.5\u001b[0m\u001b[0;34m,\u001b[0m \u001b[0;34m-\u001b[0m\u001b[0;36m36\u001b[0m\u001b[0;34m,\u001b[0m \u001b[0;36m73\u001b[0m\u001b[0;34m)\u001b[0m\u001b[0;34m\u001b[0m\u001b[0;34m\u001b[0m\u001b[0m\n\u001b[0;32m----> 2\u001b[0;31m \u001b[0mtup\u001b[0m\u001b[0;34m[\u001b[0m\u001b[0;36m0\u001b[0m\u001b[0;34m]\u001b[0m\u001b[0;34m=\u001b[0m\u001b[0;36m200\u001b[0m\u001b[0;34m\u001b[0m\u001b[0;34m\u001b[0m\u001b[0m\n\u001b[0m",
      "\u001b[0;31mTypeError\u001b[0m: 'tuple' object does not support item assignment"
     ]
    }
   ],
   "source": [
    "tup = (100, 0.5, -36, 73)\n",
    "tup[0]=200\n"
   ]
  },
  {
   "cell_type": "markdown",
   "metadata": {},
   "source": [
    "既然元组中的元素不可更改，如果在程序设计中确实需要修改元素，怎么办呢？可以采用元组变量修改的方法，重新定义一个元组并将其赋值给原有的元组变量。"
   ]
  },
  {
   "cell_type": "code",
   "execution_count": 7,
   "metadata": {},
   "outputs": [
    {
     "name": "stdout",
     "output_type": "stream",
     "text": [
      "('Python语言', 'https://www.python.org/')\n"
     ]
    }
   ],
   "source": [
    "tup = (100, 0.5, -36, 73)\n",
    "tup = ('Python语言',\"https://www.python.org/\")\n",
    "print(tup)\n"
   ]
  },
  {
   "cell_type": "markdown",
   "metadata": {},
   "source": [
    "另外，还可以通过连接多个元组（使用+可以拼接元组）的方式向元组中添加新元素"
   ]
  },
  {
   "cell_type": "code",
   "execution_count": 8,
   "metadata": {},
   "outputs": [
    {
     "name": "stdout",
     "output_type": "stream",
     "text": [
      "(100, 0.5, -36, 73, (3+12j), -54.6, 99)\n"
     ]
    }
   ],
   "source": [
    "\n",
    "tup1 = (100, 0.5, -36, 73)\n",
    "tup2 = (3+12j, -54.6, 99)\n",
    "print(tup1+tup2)\n"
   ]
  },
  {
   "cell_type": "code",
   "execution_count": 9,
   "metadata": {},
   "outputs": [
    {
     "name": "stdout",
     "output_type": "stream",
     "text": [
      " U盘 的价格是 35.00\n"
     ]
    }
   ],
   "source": [
    "# 元组应用实例： 应用元组进行格式化字符串\n",
    "\n",
    "product = \"U盘\"\n",
    "price = 35\n",
    "print(\" %s 的价格是 %.2f\" % (product,price))\n"
   ]
  },
  {
   "cell_type": "markdown",
   "metadata": {},
   "source": [
    "#### 课堂练习\n",
    "有一家自助式餐馆，只提供五种简单的食品。请想出五种简单的食品，并将其存储在一个元组中。\n",
    "\n",
    "1. 使用一个for循环将该餐馆提供的五种食品都打印出来。\n",
    "2. 尝试修改其中的一个元素，核实Python确实会拒绝你这样做。\n",
    "3. 餐馆调整了菜单，替换了它提供的其中两种食品。请编写代码块：给元组变量赋值，并使用一个for循环将新元组的每个元素都打印出来"
   ]
  },
  {
   "cell_type": "code",
   "execution_count": 19,
   "metadata": {},
   "outputs": [
    {
     "data": {
      "text/plain": [
       "('h', 'e', 'l', 'l', 'o')"
      ]
     },
     "execution_count": 19,
     "metadata": {},
     "output_type": "execute_result"
    }
   ],
   "source": [
    "s='hello'\n",
    "tuple(s)"
   ]
  },
  {
   "cell_type": "code",
   "execution_count": null,
   "metadata": {},
   "outputs": [],
   "source": []
  }
 ],
 "metadata": {
  "interpreter": {
   "hash": "dca0ade3e726a953b501b15e8e990130d2b7799f14cfd9f4271676035ebe5511"
  },
  "kernelspec": {
   "display_name": "Python 3",
   "language": "python",
   "name": "python3"
  },
  "language_info": {
   "codemirror_mode": {
    "name": "ipython",
    "version": 3
   },
   "file_extension": ".py",
   "mimetype": "text/x-python",
   "name": "python",
   "nbconvert_exporter": "python",
   "pygments_lexer": "ipython3",
   "version": "3.8.3"
  }
 },
 "nbformat": 4,
 "nbformat_minor": 4
}
